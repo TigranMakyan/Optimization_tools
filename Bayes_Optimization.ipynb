{
 "cells": [
  {
   "cell_type": "code",
   "execution_count": 1,
   "id": "8d67949f",
   "metadata": {},
   "outputs": [
    {
     "data": {
      "text/html": [
       "<style type='text/css'>\n",
       ".datatable table.frame { margin-bottom: 0; }\n",
       ".datatable table.frame thead { border-bottom: none; }\n",
       ".datatable table.frame tr.coltypes td {  color: #FFFFFF;  line-height: 6px;  padding: 0 0.5em;}\n",
       ".datatable .bool    { background: #DDDD99; }\n",
       ".datatable .object  { background: #565656; }\n",
       ".datatable .int     { background: #5D9E5D; }\n",
       ".datatable .float   { background: #4040CC; }\n",
       ".datatable .str     { background: #CC4040; }\n",
       ".datatable .time    { background: #40CC40; }\n",
       ".datatable .row_index {  background: var(--jp-border-color3);  border-right: 1px solid var(--jp-border-color0);  color: var(--jp-ui-font-color3);  font-size: 9px;}\n",
       ".datatable .frame tbody td { text-align: left; }\n",
       ".datatable .frame tr.coltypes .row_index {  background: var(--jp-border-color0);}\n",
       ".datatable th:nth-child(2) { padding-left: 12px; }\n",
       ".datatable .hellipsis {  color: var(--jp-cell-editor-border-color);}\n",
       ".datatable .vellipsis {  background: var(--jp-layout-color0);  color: var(--jp-cell-editor-border-color);}\n",
       ".datatable .na {  color: var(--jp-cell-editor-border-color);  font-size: 80%;}\n",
       ".datatable .sp {  opacity: 0.25;}\n",
       ".datatable .footer { font-size: 9px; }\n",
       ".datatable .frame_dimensions {  background: var(--jp-border-color3);  border-top: 1px solid var(--jp-border-color0);  color: var(--jp-ui-font-color3);  display: inline-block;  opacity: 0.6;  padding: 1px 10px 1px 5px;}\n",
       "</style>\n"
      ],
      "text/plain": [
       "<IPython.core.display.HTML object>"
      ]
     },
     "metadata": {},
     "output_type": "display_data"
    }
   ],
   "source": [
    "import numpy as np\n",
    "import pandas as pd\n",
    "import json\n",
    "import matplotlib.pyplot as plt\n",
    "%matplotlib inline\n",
    "%config InlineBackend.figure_format = 'retina'\n",
    "from sklearn.ensemble import GradientBoostingClassifier\n",
    "from sklearn.metrics import accuracy_score\n",
    "from sklearn.base import clone\n",
    "from sklearn.model_selection import train_test_split, cross_val_score, KFold\n",
    "from sklearn.impute import SimpleImputer\n",
    "from sklearn.preprocessing import OneHotEncoder\n",
    "from sklearn.compose import ColumnTransformer\n",
    "from lightgbm import LGBMClassifier\n",
    "from sklearn.pipeline import Pipeline\n",
    "import hyperopt\n",
    "from hyperopt import fmin, tpe, Trials, space_eval, hp\n",
    "import warnings\n",
    "warnings.filterwarnings(action='ignore')"
   ]
  },
  {
   "cell_type": "markdown",
   "id": "3b3d37e3",
   "metadata": {},
   "source": [
    "# HyperOpt"
   ]
  },
  {
   "cell_type": "code",
   "execution_count": 2,
   "id": "7da83b2f",
   "metadata": {},
   "outputs": [
    {
     "data": {
      "text/html": [
       "<div>\n",
       "<style scoped>\n",
       "    .dataframe tbody tr th:only-of-type {\n",
       "        vertical-align: middle;\n",
       "    }\n",
       "\n",
       "    .dataframe tbody tr th {\n",
       "        vertical-align: top;\n",
       "    }\n",
       "\n",
       "    .dataframe thead th {\n",
       "        text-align: right;\n",
       "    }\n",
       "</style>\n",
       "<table border=\"1\" class=\"dataframe\">\n",
       "  <thead>\n",
       "    <tr style=\"text-align: right;\">\n",
       "      <th></th>\n",
       "      <th>Customer Lifetime Value</th>\n",
       "      <th>Coverage</th>\n",
       "      <th>Education</th>\n",
       "      <th>EmploymentStatus</th>\n",
       "      <th>Gender</th>\n",
       "      <th>Income</th>\n",
       "      <th>Monthly Premium Auto</th>\n",
       "      <th>Months Since Last Claim</th>\n",
       "      <th>Months Since Policy Inception</th>\n",
       "      <th>Number of Open Complaints</th>\n",
       "      <th>Number of Policies</th>\n",
       "      <th>Response</th>\n",
       "    </tr>\n",
       "  </thead>\n",
       "  <tbody>\n",
       "    <tr>\n",
       "      <th>0</th>\n",
       "      <td>2763.519279</td>\n",
       "      <td>Basic</td>\n",
       "      <td>Bachelor</td>\n",
       "      <td>Employed</td>\n",
       "      <td>F</td>\n",
       "      <td>56274.0</td>\n",
       "      <td>NaN</td>\n",
       "      <td>32.0</td>\n",
       "      <td>5.0</td>\n",
       "      <td>NaN</td>\n",
       "      <td>1.0</td>\n",
       "      <td>No</td>\n",
       "    </tr>\n",
       "    <tr>\n",
       "      <th>1</th>\n",
       "      <td>NaN</td>\n",
       "      <td>NaN</td>\n",
       "      <td>Bachelor</td>\n",
       "      <td>Unemployed</td>\n",
       "      <td>F</td>\n",
       "      <td>0.0</td>\n",
       "      <td>NaN</td>\n",
       "      <td>13.0</td>\n",
       "      <td>42.0</td>\n",
       "      <td>NaN</td>\n",
       "      <td>NaN</td>\n",
       "      <td>No</td>\n",
       "    </tr>\n",
       "    <tr>\n",
       "      <th>2</th>\n",
       "      <td>NaN</td>\n",
       "      <td>NaN</td>\n",
       "      <td>NaN</td>\n",
       "      <td>Employed</td>\n",
       "      <td>F</td>\n",
       "      <td>48767.0</td>\n",
       "      <td>108.0</td>\n",
       "      <td>NaN</td>\n",
       "      <td>38.0</td>\n",
       "      <td>0.0</td>\n",
       "      <td>NaN</td>\n",
       "      <td>No</td>\n",
       "    </tr>\n",
       "    <tr>\n",
       "      <th>3</th>\n",
       "      <td>7645.861827</td>\n",
       "      <td>Basic</td>\n",
       "      <td>Bachelor</td>\n",
       "      <td>NaN</td>\n",
       "      <td>NaN</td>\n",
       "      <td>0.0</td>\n",
       "      <td>106.0</td>\n",
       "      <td>18.0</td>\n",
       "      <td>NaN</td>\n",
       "      <td>NaN</td>\n",
       "      <td>7.0</td>\n",
       "      <td>No</td>\n",
       "    </tr>\n",
       "    <tr>\n",
       "      <th>4</th>\n",
       "      <td>2813.692575</td>\n",
       "      <td>Basic</td>\n",
       "      <td>Bachelor</td>\n",
       "      <td>NaN</td>\n",
       "      <td>M</td>\n",
       "      <td>43836.0</td>\n",
       "      <td>73.0</td>\n",
       "      <td>12.0</td>\n",
       "      <td>NaN</td>\n",
       "      <td>NaN</td>\n",
       "      <td>1.0</td>\n",
       "      <td>No</td>\n",
       "    </tr>\n",
       "  </tbody>\n",
       "</table>\n",
       "</div>"
      ],
      "text/plain": [
       "   Customer Lifetime Value Coverage Education EmploymentStatus Gender  \\\n",
       "0              2763.519279    Basic  Bachelor         Employed      F   \n",
       "1                      NaN      NaN  Bachelor       Unemployed      F   \n",
       "2                      NaN      NaN       NaN         Employed      F   \n",
       "3              7645.861827    Basic  Bachelor              NaN    NaN   \n",
       "4              2813.692575    Basic  Bachelor              NaN      M   \n",
       "\n",
       "    Income  Monthly Premium Auto  Months Since Last Claim  \\\n",
       "0  56274.0                   NaN                     32.0   \n",
       "1      0.0                   NaN                     13.0   \n",
       "2  48767.0                 108.0                      NaN   \n",
       "3      0.0                 106.0                     18.0   \n",
       "4  43836.0                  73.0                     12.0   \n",
       "\n",
       "   Months Since Policy Inception  Number of Open Complaints  \\\n",
       "0                            5.0                        NaN   \n",
       "1                           42.0                        NaN   \n",
       "2                           38.0                        0.0   \n",
       "3                            NaN                        NaN   \n",
       "4                            NaN                        NaN   \n",
       "\n",
       "   Number of Policies Response  \n",
       "0                 1.0       No  \n",
       "1                 NaN       No  \n",
       "2                 NaN       No  \n",
       "3                 7.0       No  \n",
       "4                 1.0       No  "
      ]
     },
     "execution_count": 2,
     "metadata": {},
     "output_type": "execute_result"
    }
   ],
   "source": [
    "data = pd.read_csv('/home/tigran/Downloads/code/Data/StateFarm_missing.csv', sep=';')\n",
    "data.head()"
   ]
  },
  {
   "cell_type": "code",
   "execution_count": 3,
   "id": "7c55fcbc",
   "metadata": {},
   "outputs": [],
   "source": [
    "X_train, X_test, y_train, y_test = train_test_split(data.drop('Response', axis=1),\n",
    "                                                   data['Response'],\n",
    "                                                   test_size=0.3,\n",
    "                                                   stratify=data['Response'],\n",
    "                                                   random_state=42)"
   ]
  },
  {
   "cell_type": "code",
   "execution_count": 4,
   "id": "7706bb92",
   "metadata": {},
   "outputs": [],
   "source": [
    "cat_columns = X_train.select_dtypes(include='object').columns.tolist()\n",
    "num_columns = X_train.select_dtypes(exclude='object').columns.tolist()"
   ]
  },
  {
   "cell_type": "code",
   "execution_count": 5,
   "id": "3da441e5",
   "metadata": {},
   "outputs": [],
   "source": [
    "num_pipe = Pipeline([\n",
    "    ('imp', SimpleImputer())\n",
    "])\n",
    "\n",
    "cat_pipe = Pipeline([\n",
    "    ('imp', SimpleImputer()),\n",
    "    ('ohe', OneHotEncoder(sparse=False, handle_unknown='ignore'))\n",
    "])"
   ]
  },
  {
   "cell_type": "code",
   "execution_count": 6,
   "id": "f3590935",
   "metadata": {},
   "outputs": [],
   "source": [
    "transformers = [('num', num_pipe, num_columns),\n",
    "               ('cat', cat_pipe, cat_columns)]"
   ]
  },
  {
   "cell_type": "code",
   "execution_count": 7,
   "id": "fb652c1b",
   "metadata": {},
   "outputs": [],
   "source": [
    "transformer = ColumnTransformer(transformers=transformers)"
   ]
  },
  {
   "cell_type": "code",
   "execution_count": 8,
   "id": "7734b688",
   "metadata": {},
   "outputs": [],
   "source": [
    "pipe = Pipeline([\n",
    "    ('tr', transformer),\n",
    "    ('boost', GradientBoostingClassifier(random_state=42))\n",
    "])"
   ]
  },
  {
   "cell_type": "code",
   "execution_count": 9,
   "id": "6e55510e",
   "metadata": {},
   "outputs": [
    {
     "data": {
      "text/html": [
       "<style>#sk-container-id-1 {color: black;background-color: white;}#sk-container-id-1 pre{padding: 0;}#sk-container-id-1 div.sk-toggleable {background-color: white;}#sk-container-id-1 label.sk-toggleable__label {cursor: pointer;display: block;width: 100%;margin-bottom: 0;padding: 0.3em;box-sizing: border-box;text-align: center;}#sk-container-id-1 label.sk-toggleable__label-arrow:before {content: \"▸\";float: left;margin-right: 0.25em;color: #696969;}#sk-container-id-1 label.sk-toggleable__label-arrow:hover:before {color: black;}#sk-container-id-1 div.sk-estimator:hover label.sk-toggleable__label-arrow:before {color: black;}#sk-container-id-1 div.sk-toggleable__content {max-height: 0;max-width: 0;overflow: hidden;text-align: left;background-color: #f0f8ff;}#sk-container-id-1 div.sk-toggleable__content pre {margin: 0.2em;color: black;border-radius: 0.25em;background-color: #f0f8ff;}#sk-container-id-1 input.sk-toggleable__control:checked~div.sk-toggleable__content {max-height: 200px;max-width: 100%;overflow: auto;}#sk-container-id-1 input.sk-toggleable__control:checked~label.sk-toggleable__label-arrow:before {content: \"▾\";}#sk-container-id-1 div.sk-estimator input.sk-toggleable__control:checked~label.sk-toggleable__label {background-color: #d4ebff;}#sk-container-id-1 div.sk-label input.sk-toggleable__control:checked~label.sk-toggleable__label {background-color: #d4ebff;}#sk-container-id-1 input.sk-hidden--visually {border: 0;clip: rect(1px 1px 1px 1px);clip: rect(1px, 1px, 1px, 1px);height: 1px;margin: -1px;overflow: hidden;padding: 0;position: absolute;width: 1px;}#sk-container-id-1 div.sk-estimator {font-family: monospace;background-color: #f0f8ff;border: 1px dotted black;border-radius: 0.25em;box-sizing: border-box;margin-bottom: 0.5em;}#sk-container-id-1 div.sk-estimator:hover {background-color: #d4ebff;}#sk-container-id-1 div.sk-parallel-item::after {content: \"\";width: 100%;border-bottom: 1px solid gray;flex-grow: 1;}#sk-container-id-1 div.sk-label:hover label.sk-toggleable__label {background-color: #d4ebff;}#sk-container-id-1 div.sk-serial::before {content: \"\";position: absolute;border-left: 1px solid gray;box-sizing: border-box;top: 0;bottom: 0;left: 50%;z-index: 0;}#sk-container-id-1 div.sk-serial {display: flex;flex-direction: column;align-items: center;background-color: white;padding-right: 0.2em;padding-left: 0.2em;position: relative;}#sk-container-id-1 div.sk-item {position: relative;z-index: 1;}#sk-container-id-1 div.sk-parallel {display: flex;align-items: stretch;justify-content: center;background-color: white;position: relative;}#sk-container-id-1 div.sk-item::before, #sk-container-id-1 div.sk-parallel-item::before {content: \"\";position: absolute;border-left: 1px solid gray;box-sizing: border-box;top: 0;bottom: 0;left: 50%;z-index: -1;}#sk-container-id-1 div.sk-parallel-item {display: flex;flex-direction: column;z-index: 1;position: relative;background-color: white;}#sk-container-id-1 div.sk-parallel-item:first-child::after {align-self: flex-end;width: 50%;}#sk-container-id-1 div.sk-parallel-item:last-child::after {align-self: flex-start;width: 50%;}#sk-container-id-1 div.sk-parallel-item:only-child::after {width: 0;}#sk-container-id-1 div.sk-dashed-wrapped {border: 1px dashed gray;margin: 0 0.4em 0.5em 0.4em;box-sizing: border-box;padding-bottom: 0.4em;background-color: white;}#sk-container-id-1 div.sk-label label {font-family: monospace;font-weight: bold;display: inline-block;line-height: 1.2em;}#sk-container-id-1 div.sk-label-container {text-align: center;}#sk-container-id-1 div.sk-container {/* jupyter's `normalize.less` sets `[hidden] { display: none; }` but bootstrap.min.css set `[hidden] { display: none !important; }` so we also need the `!important` here to be able to override the default hidden behavior on the sphinx rendered scikit-learn.org. See: https://github.com/scikit-learn/scikit-learn/issues/21755 */display: inline-block !important;position: relative;}#sk-container-id-1 div.sk-text-repr-fallback {display: none;}</style><div id=\"sk-container-id-1\" class=\"sk-top-container\"><div class=\"sk-text-repr-fallback\"><pre>Pipeline(steps=[(&#x27;tr&#x27;,\n",
       "                 ColumnTransformer(transformers=[(&#x27;num&#x27;,\n",
       "                                                  Pipeline(steps=[(&#x27;imp&#x27;,\n",
       "                                                                   SimpleImputer())]),\n",
       "                                                  [&#x27;Customer Lifetime Value&#x27;,\n",
       "                                                   &#x27;Income&#x27;,\n",
       "                                                   &#x27;Monthly Premium Auto&#x27;,\n",
       "                                                   &#x27;Months Since Last Claim&#x27;,\n",
       "                                                   &#x27;Months Since Policy &#x27;\n",
       "                                                   &#x27;Inception&#x27;,\n",
       "                                                   &#x27;Number of Open Complaints&#x27;,\n",
       "                                                   &#x27;Number of Policies&#x27;]),\n",
       "                                                 (&#x27;cat&#x27;,\n",
       "                                                  Pipeline(steps=[(&#x27;imp&#x27;,\n",
       "                                                                   SimpleImputer()),\n",
       "                                                                  (&#x27;ohe&#x27;,\n",
       "                                                                   OneHotEncoder(handle_unknown=&#x27;ignore&#x27;,\n",
       "                                                                                 sparse=False))]),\n",
       "                                                  [&#x27;Coverage&#x27;, &#x27;Education&#x27;,\n",
       "                                                   &#x27;EmploymentStatus&#x27;,\n",
       "                                                   &#x27;Gender&#x27;])])),\n",
       "                (&#x27;boost&#x27;, GradientBoostingClassifier(random_state=42))])</pre><b>In a Jupyter environment, please rerun this cell to show the HTML representation or trust the notebook. <br />On GitHub, the HTML representation is unable to render, please try loading this page with nbviewer.org.</b></div><div class=\"sk-container\" hidden><div class=\"sk-item sk-dashed-wrapped\"><div class=\"sk-label-container\"><div class=\"sk-label sk-toggleable\"><input class=\"sk-toggleable__control sk-hidden--visually\" id=\"sk-estimator-id-1\" type=\"checkbox\" ><label for=\"sk-estimator-id-1\" class=\"sk-toggleable__label sk-toggleable__label-arrow\">Pipeline</label><div class=\"sk-toggleable__content\"><pre>Pipeline(steps=[(&#x27;tr&#x27;,\n",
       "                 ColumnTransformer(transformers=[(&#x27;num&#x27;,\n",
       "                                                  Pipeline(steps=[(&#x27;imp&#x27;,\n",
       "                                                                   SimpleImputer())]),\n",
       "                                                  [&#x27;Customer Lifetime Value&#x27;,\n",
       "                                                   &#x27;Income&#x27;,\n",
       "                                                   &#x27;Monthly Premium Auto&#x27;,\n",
       "                                                   &#x27;Months Since Last Claim&#x27;,\n",
       "                                                   &#x27;Months Since Policy &#x27;\n",
       "                                                   &#x27;Inception&#x27;,\n",
       "                                                   &#x27;Number of Open Complaints&#x27;,\n",
       "                                                   &#x27;Number of Policies&#x27;]),\n",
       "                                                 (&#x27;cat&#x27;,\n",
       "                                                  Pipeline(steps=[(&#x27;imp&#x27;,\n",
       "                                                                   SimpleImputer()),\n",
       "                                                                  (&#x27;ohe&#x27;,\n",
       "                                                                   OneHotEncoder(handle_unknown=&#x27;ignore&#x27;,\n",
       "                                                                                 sparse=False))]),\n",
       "                                                  [&#x27;Coverage&#x27;, &#x27;Education&#x27;,\n",
       "                                                   &#x27;EmploymentStatus&#x27;,\n",
       "                                                   &#x27;Gender&#x27;])])),\n",
       "                (&#x27;boost&#x27;, GradientBoostingClassifier(random_state=42))])</pre></div></div></div><div class=\"sk-serial\"><div class=\"sk-item sk-dashed-wrapped\"><div class=\"sk-label-container\"><div class=\"sk-label sk-toggleable\"><input class=\"sk-toggleable__control sk-hidden--visually\" id=\"sk-estimator-id-2\" type=\"checkbox\" ><label for=\"sk-estimator-id-2\" class=\"sk-toggleable__label sk-toggleable__label-arrow\">tr: ColumnTransformer</label><div class=\"sk-toggleable__content\"><pre>ColumnTransformer(transformers=[(&#x27;num&#x27;,\n",
       "                                 Pipeline(steps=[(&#x27;imp&#x27;, SimpleImputer())]),\n",
       "                                 [&#x27;Customer Lifetime Value&#x27;, &#x27;Income&#x27;,\n",
       "                                  &#x27;Monthly Premium Auto&#x27;,\n",
       "                                  &#x27;Months Since Last Claim&#x27;,\n",
       "                                  &#x27;Months Since Policy Inception&#x27;,\n",
       "                                  &#x27;Number of Open Complaints&#x27;,\n",
       "                                  &#x27;Number of Policies&#x27;]),\n",
       "                                (&#x27;cat&#x27;,\n",
       "                                 Pipeline(steps=[(&#x27;imp&#x27;, SimpleImputer()),\n",
       "                                                 (&#x27;ohe&#x27;,\n",
       "                                                  OneHotEncoder(handle_unknown=&#x27;ignore&#x27;,\n",
       "                                                                sparse=False))]),\n",
       "                                 [&#x27;Coverage&#x27;, &#x27;Education&#x27;, &#x27;EmploymentStatus&#x27;,\n",
       "                                  &#x27;Gender&#x27;])])</pre></div></div></div><div class=\"sk-parallel\"><div class=\"sk-parallel-item\"><div class=\"sk-item\"><div class=\"sk-label-container\"><div class=\"sk-label sk-toggleable\"><input class=\"sk-toggleable__control sk-hidden--visually\" id=\"sk-estimator-id-3\" type=\"checkbox\" ><label for=\"sk-estimator-id-3\" class=\"sk-toggleable__label sk-toggleable__label-arrow\">num</label><div class=\"sk-toggleable__content\"><pre>[&#x27;Customer Lifetime Value&#x27;, &#x27;Income&#x27;, &#x27;Monthly Premium Auto&#x27;, &#x27;Months Since Last Claim&#x27;, &#x27;Months Since Policy Inception&#x27;, &#x27;Number of Open Complaints&#x27;, &#x27;Number of Policies&#x27;]</pre></div></div></div><div class=\"sk-serial\"><div class=\"sk-item\"><div class=\"sk-serial\"><div class=\"sk-item\"><div class=\"sk-estimator sk-toggleable\"><input class=\"sk-toggleable__control sk-hidden--visually\" id=\"sk-estimator-id-4\" type=\"checkbox\" ><label for=\"sk-estimator-id-4\" class=\"sk-toggleable__label sk-toggleable__label-arrow\">SimpleImputer</label><div class=\"sk-toggleable__content\"><pre>SimpleImputer()</pre></div></div></div></div></div></div></div></div><div class=\"sk-parallel-item\"><div class=\"sk-item\"><div class=\"sk-label-container\"><div class=\"sk-label sk-toggleable\"><input class=\"sk-toggleable__control sk-hidden--visually\" id=\"sk-estimator-id-5\" type=\"checkbox\" ><label for=\"sk-estimator-id-5\" class=\"sk-toggleable__label sk-toggleable__label-arrow\">cat</label><div class=\"sk-toggleable__content\"><pre>[&#x27;Coverage&#x27;, &#x27;Education&#x27;, &#x27;EmploymentStatus&#x27;, &#x27;Gender&#x27;]</pre></div></div></div><div class=\"sk-serial\"><div class=\"sk-item\"><div class=\"sk-serial\"><div class=\"sk-item\"><div class=\"sk-estimator sk-toggleable\"><input class=\"sk-toggleable__control sk-hidden--visually\" id=\"sk-estimator-id-6\" type=\"checkbox\" ><label for=\"sk-estimator-id-6\" class=\"sk-toggleable__label sk-toggleable__label-arrow\">SimpleImputer</label><div class=\"sk-toggleable__content\"><pre>SimpleImputer()</pre></div></div></div><div class=\"sk-item\"><div class=\"sk-estimator sk-toggleable\"><input class=\"sk-toggleable__control sk-hidden--visually\" id=\"sk-estimator-id-7\" type=\"checkbox\" ><label for=\"sk-estimator-id-7\" class=\"sk-toggleable__label sk-toggleable__label-arrow\">OneHotEncoder</label><div class=\"sk-toggleable__content\"><pre>OneHotEncoder(handle_unknown=&#x27;ignore&#x27;, sparse=False)</pre></div></div></div></div></div></div></div></div></div></div><div class=\"sk-item\"><div class=\"sk-estimator sk-toggleable\"><input class=\"sk-toggleable__control sk-hidden--visually\" id=\"sk-estimator-id-8\" type=\"checkbox\" ><label for=\"sk-estimator-id-8\" class=\"sk-toggleable__label sk-toggleable__label-arrow\">GradientBoostingClassifier</label><div class=\"sk-toggleable__content\"><pre>GradientBoostingClassifier(random_state=42)</pre></div></div></div></div></div></div></div>"
      ],
      "text/plain": [
       "Pipeline(steps=[('tr',\n",
       "                 ColumnTransformer(transformers=[('num',\n",
       "                                                  Pipeline(steps=[('imp',\n",
       "                                                                   SimpleImputer())]),\n",
       "                                                  ['Customer Lifetime Value',\n",
       "                                                   'Income',\n",
       "                                                   'Monthly Premium Auto',\n",
       "                                                   'Months Since Last Claim',\n",
       "                                                   'Months Since Policy '\n",
       "                                                   'Inception',\n",
       "                                                   'Number of Open Complaints',\n",
       "                                                   'Number of Policies']),\n",
       "                                                 ('cat',\n",
       "                                                  Pipeline(steps=[('imp',\n",
       "                                                                   SimpleImputer()),\n",
       "                                                                  ('ohe',\n",
       "                                                                   OneHotEncoder(handle_unknown='ignore',\n",
       "                                                                                 sparse=False))]),\n",
       "                                                  ['Coverage', 'Education',\n",
       "                                                   'EmploymentStatus',\n",
       "                                                   'Gender'])])),\n",
       "                ('boost', GradientBoostingClassifier(random_state=42))])"
      ]
     },
     "execution_count": 9,
     "metadata": {},
     "output_type": "execute_result"
    }
   ],
   "source": [
    "initial_pipe = clone(pipe)\n",
    "pipe"
   ]
  },
  {
   "cell_type": "code",
   "execution_count": 10,
   "id": "43f31f60",
   "metadata": {},
   "outputs": [],
   "source": [
    "def hyperopt_objective(params):\n",
    "    pipe.set_params(**params)\n",
    "    return -cross_val_score(pipe, X_train, y_train, cv=5).mean()"
   ]
  },
  {
   "cell_type": "code",
   "execution_count": 11,
   "id": "176dbba0",
   "metadata": {},
   "outputs": [],
   "source": [
    "space_hyperopt = {\n",
    "    'boost__learning_rate': hp.loguniform('boost__learning_rate', 0.001, 0.1),\n",
    "    'tr__num__imp__strategy': hp.choice('tr__num__imp__strategy', ['mean', 'median', 'constant']),\n",
    "    'tr__cat__imp__strategy': hp.choice('tr__cat__imp__strategy', ['most_frequent', 'constant'])\n",
    "}"
   ]
  },
  {
   "cell_type": "code",
   "execution_count": 12,
   "id": "4490fa82",
   "metadata": {},
   "outputs": [],
   "source": [
    "trials = Trials()"
   ]
  },
  {
   "cell_type": "code",
   "execution_count": 13,
   "id": "52e66af4",
   "metadata": {},
   "outputs": [
    {
     "name": "stdout",
     "output_type": "stream",
     "text": [
      "100%|████████| 20/20 [00:49<00:00,  2.50s/trial, best loss: -0.9050818260120586]\n"
     ]
    }
   ],
   "source": [
    "best = fmin(fn=hyperopt_objective,\n",
    "           space=space_hyperopt,\n",
    "           algo=tpe.suggest,\n",
    "           max_evals=20,\n",
    "           trials=trials,\n",
    "           rstate=np.random.default_rng(123))"
   ]
  },
  {
   "cell_type": "code",
   "execution_count": 14,
   "id": "e84c68f8",
   "metadata": {},
   "outputs": [
    {
     "name": "stdout",
     "output_type": "stream",
     "text": [
      "best:  {'boost__learning_rate': 1.0062813714974137e+00, 'tr__cat__imp__strategy': 0, 'tr__num__imp__strategy': 1}\n"
     ]
    }
   ],
   "source": [
    "print('best: ', best)"
   ]
  },
  {
   "cell_type": "code",
   "execution_count": 15,
   "id": "e54d2c85",
   "metadata": {},
   "outputs": [
    {
     "data": {
      "text/html": [
       "<style>#sk-container-id-2 {color: black;background-color: white;}#sk-container-id-2 pre{padding: 0;}#sk-container-id-2 div.sk-toggleable {background-color: white;}#sk-container-id-2 label.sk-toggleable__label {cursor: pointer;display: block;width: 100%;margin-bottom: 0;padding: 0.3em;box-sizing: border-box;text-align: center;}#sk-container-id-2 label.sk-toggleable__label-arrow:before {content: \"▸\";float: left;margin-right: 0.25em;color: #696969;}#sk-container-id-2 label.sk-toggleable__label-arrow:hover:before {color: black;}#sk-container-id-2 div.sk-estimator:hover label.sk-toggleable__label-arrow:before {color: black;}#sk-container-id-2 div.sk-toggleable__content {max-height: 0;max-width: 0;overflow: hidden;text-align: left;background-color: #f0f8ff;}#sk-container-id-2 div.sk-toggleable__content pre {margin: 0.2em;color: black;border-radius: 0.25em;background-color: #f0f8ff;}#sk-container-id-2 input.sk-toggleable__control:checked~div.sk-toggleable__content {max-height: 200px;max-width: 100%;overflow: auto;}#sk-container-id-2 input.sk-toggleable__control:checked~label.sk-toggleable__label-arrow:before {content: \"▾\";}#sk-container-id-2 div.sk-estimator input.sk-toggleable__control:checked~label.sk-toggleable__label {background-color: #d4ebff;}#sk-container-id-2 div.sk-label input.sk-toggleable__control:checked~label.sk-toggleable__label {background-color: #d4ebff;}#sk-container-id-2 input.sk-hidden--visually {border: 0;clip: rect(1px 1px 1px 1px);clip: rect(1px, 1px, 1px, 1px);height: 1px;margin: -1px;overflow: hidden;padding: 0;position: absolute;width: 1px;}#sk-container-id-2 div.sk-estimator {font-family: monospace;background-color: #f0f8ff;border: 1px dotted black;border-radius: 0.25em;box-sizing: border-box;margin-bottom: 0.5em;}#sk-container-id-2 div.sk-estimator:hover {background-color: #d4ebff;}#sk-container-id-2 div.sk-parallel-item::after {content: \"\";width: 100%;border-bottom: 1px solid gray;flex-grow: 1;}#sk-container-id-2 div.sk-label:hover label.sk-toggleable__label {background-color: #d4ebff;}#sk-container-id-2 div.sk-serial::before {content: \"\";position: absolute;border-left: 1px solid gray;box-sizing: border-box;top: 0;bottom: 0;left: 50%;z-index: 0;}#sk-container-id-2 div.sk-serial {display: flex;flex-direction: column;align-items: center;background-color: white;padding-right: 0.2em;padding-left: 0.2em;position: relative;}#sk-container-id-2 div.sk-item {position: relative;z-index: 1;}#sk-container-id-2 div.sk-parallel {display: flex;align-items: stretch;justify-content: center;background-color: white;position: relative;}#sk-container-id-2 div.sk-item::before, #sk-container-id-2 div.sk-parallel-item::before {content: \"\";position: absolute;border-left: 1px solid gray;box-sizing: border-box;top: 0;bottom: 0;left: 50%;z-index: -1;}#sk-container-id-2 div.sk-parallel-item {display: flex;flex-direction: column;z-index: 1;position: relative;background-color: white;}#sk-container-id-2 div.sk-parallel-item:first-child::after {align-self: flex-end;width: 50%;}#sk-container-id-2 div.sk-parallel-item:last-child::after {align-self: flex-start;width: 50%;}#sk-container-id-2 div.sk-parallel-item:only-child::after {width: 0;}#sk-container-id-2 div.sk-dashed-wrapped {border: 1px dashed gray;margin: 0 0.4em 0.5em 0.4em;box-sizing: border-box;padding-bottom: 0.4em;background-color: white;}#sk-container-id-2 div.sk-label label {font-family: monospace;font-weight: bold;display: inline-block;line-height: 1.2em;}#sk-container-id-2 div.sk-label-container {text-align: center;}#sk-container-id-2 div.sk-container {/* jupyter's `normalize.less` sets `[hidden] { display: none; }` but bootstrap.min.css set `[hidden] { display: none !important; }` so we also need the `!important` here to be able to override the default hidden behavior on the sphinx rendered scikit-learn.org. See: https://github.com/scikit-learn/scikit-learn/issues/21755 */display: inline-block !important;position: relative;}#sk-container-id-2 div.sk-text-repr-fallback {display: none;}</style><div id=\"sk-container-id-2\" class=\"sk-top-container\"><div class=\"sk-text-repr-fallback\"><pre>Pipeline(steps=[(&#x27;tr&#x27;,\n",
       "                 ColumnTransformer(transformers=[(&#x27;num&#x27;,\n",
       "                                                  Pipeline(steps=[(&#x27;imp&#x27;,\n",
       "                                                                   SimpleImputer(strategy=&#x27;median&#x27;))]),\n",
       "                                                  [&#x27;Customer Lifetime Value&#x27;,\n",
       "                                                   &#x27;Income&#x27;,\n",
       "                                                   &#x27;Monthly Premium Auto&#x27;,\n",
       "                                                   &#x27;Months Since Last Claim&#x27;,\n",
       "                                                   &#x27;Months Since Policy &#x27;\n",
       "                                                   &#x27;Inception&#x27;,\n",
       "                                                   &#x27;Number of Open Complaints&#x27;,\n",
       "                                                   &#x27;Number of Policies&#x27;]),\n",
       "                                                 (&#x27;cat&#x27;,\n",
       "                                                  Pipeline(steps=[(&#x27;imp&#x27;,\n",
       "                                                                   SimpleImputer(strategy=&#x27;most_frequent&#x27;)),\n",
       "                                                                  (&#x27;ohe&#x27;,\n",
       "                                                                   OneHotEncoder(handle_unknown=&#x27;ignore&#x27;,\n",
       "                                                                                 sparse=False))]),\n",
       "                                                  [&#x27;Coverage&#x27;, &#x27;Education&#x27;,\n",
       "                                                   &#x27;EmploymentStatus&#x27;,\n",
       "                                                   &#x27;Gender&#x27;])])),\n",
       "                (&#x27;boost&#x27;,\n",
       "                 GradientBoostingClassifier(learning_rate=1.0686988258771697,\n",
       "                                            random_state=42))])</pre><b>In a Jupyter environment, please rerun this cell to show the HTML representation or trust the notebook. <br />On GitHub, the HTML representation is unable to render, please try loading this page with nbviewer.org.</b></div><div class=\"sk-container\" hidden><div class=\"sk-item sk-dashed-wrapped\"><div class=\"sk-label-container\"><div class=\"sk-label sk-toggleable\"><input class=\"sk-toggleable__control sk-hidden--visually\" id=\"sk-estimator-id-9\" type=\"checkbox\" ><label for=\"sk-estimator-id-9\" class=\"sk-toggleable__label sk-toggleable__label-arrow\">Pipeline</label><div class=\"sk-toggleable__content\"><pre>Pipeline(steps=[(&#x27;tr&#x27;,\n",
       "                 ColumnTransformer(transformers=[(&#x27;num&#x27;,\n",
       "                                                  Pipeline(steps=[(&#x27;imp&#x27;,\n",
       "                                                                   SimpleImputer(strategy=&#x27;median&#x27;))]),\n",
       "                                                  [&#x27;Customer Lifetime Value&#x27;,\n",
       "                                                   &#x27;Income&#x27;,\n",
       "                                                   &#x27;Monthly Premium Auto&#x27;,\n",
       "                                                   &#x27;Months Since Last Claim&#x27;,\n",
       "                                                   &#x27;Months Since Policy &#x27;\n",
       "                                                   &#x27;Inception&#x27;,\n",
       "                                                   &#x27;Number of Open Complaints&#x27;,\n",
       "                                                   &#x27;Number of Policies&#x27;]),\n",
       "                                                 (&#x27;cat&#x27;,\n",
       "                                                  Pipeline(steps=[(&#x27;imp&#x27;,\n",
       "                                                                   SimpleImputer(strategy=&#x27;most_frequent&#x27;)),\n",
       "                                                                  (&#x27;ohe&#x27;,\n",
       "                                                                   OneHotEncoder(handle_unknown=&#x27;ignore&#x27;,\n",
       "                                                                                 sparse=False))]),\n",
       "                                                  [&#x27;Coverage&#x27;, &#x27;Education&#x27;,\n",
       "                                                   &#x27;EmploymentStatus&#x27;,\n",
       "                                                   &#x27;Gender&#x27;])])),\n",
       "                (&#x27;boost&#x27;,\n",
       "                 GradientBoostingClassifier(learning_rate=1.0686988258771697,\n",
       "                                            random_state=42))])</pre></div></div></div><div class=\"sk-serial\"><div class=\"sk-item sk-dashed-wrapped\"><div class=\"sk-label-container\"><div class=\"sk-label sk-toggleable\"><input class=\"sk-toggleable__control sk-hidden--visually\" id=\"sk-estimator-id-10\" type=\"checkbox\" ><label for=\"sk-estimator-id-10\" class=\"sk-toggleable__label sk-toggleable__label-arrow\">tr: ColumnTransformer</label><div class=\"sk-toggleable__content\"><pre>ColumnTransformer(transformers=[(&#x27;num&#x27;,\n",
       "                                 Pipeline(steps=[(&#x27;imp&#x27;,\n",
       "                                                  SimpleImputer(strategy=&#x27;median&#x27;))]),\n",
       "                                 [&#x27;Customer Lifetime Value&#x27;, &#x27;Income&#x27;,\n",
       "                                  &#x27;Monthly Premium Auto&#x27;,\n",
       "                                  &#x27;Months Since Last Claim&#x27;,\n",
       "                                  &#x27;Months Since Policy Inception&#x27;,\n",
       "                                  &#x27;Number of Open Complaints&#x27;,\n",
       "                                  &#x27;Number of Policies&#x27;]),\n",
       "                                (&#x27;cat&#x27;,\n",
       "                                 Pipeline(steps=[(&#x27;imp&#x27;,\n",
       "                                                  SimpleImputer(strategy=&#x27;most_frequent&#x27;)),\n",
       "                                                 (&#x27;ohe&#x27;,\n",
       "                                                  OneHotEncoder(handle_unknown=&#x27;ignore&#x27;,\n",
       "                                                                sparse=False))]),\n",
       "                                 [&#x27;Coverage&#x27;, &#x27;Education&#x27;, &#x27;EmploymentStatus&#x27;,\n",
       "                                  &#x27;Gender&#x27;])])</pre></div></div></div><div class=\"sk-parallel\"><div class=\"sk-parallel-item\"><div class=\"sk-item\"><div class=\"sk-label-container\"><div class=\"sk-label sk-toggleable\"><input class=\"sk-toggleable__control sk-hidden--visually\" id=\"sk-estimator-id-11\" type=\"checkbox\" ><label for=\"sk-estimator-id-11\" class=\"sk-toggleable__label sk-toggleable__label-arrow\">num</label><div class=\"sk-toggleable__content\"><pre>[&#x27;Customer Lifetime Value&#x27;, &#x27;Income&#x27;, &#x27;Monthly Premium Auto&#x27;, &#x27;Months Since Last Claim&#x27;, &#x27;Months Since Policy Inception&#x27;, &#x27;Number of Open Complaints&#x27;, &#x27;Number of Policies&#x27;]</pre></div></div></div><div class=\"sk-serial\"><div class=\"sk-item\"><div class=\"sk-serial\"><div class=\"sk-item\"><div class=\"sk-estimator sk-toggleable\"><input class=\"sk-toggleable__control sk-hidden--visually\" id=\"sk-estimator-id-12\" type=\"checkbox\" ><label for=\"sk-estimator-id-12\" class=\"sk-toggleable__label sk-toggleable__label-arrow\">SimpleImputer</label><div class=\"sk-toggleable__content\"><pre>SimpleImputer(strategy=&#x27;median&#x27;)</pre></div></div></div></div></div></div></div></div><div class=\"sk-parallel-item\"><div class=\"sk-item\"><div class=\"sk-label-container\"><div class=\"sk-label sk-toggleable\"><input class=\"sk-toggleable__control sk-hidden--visually\" id=\"sk-estimator-id-13\" type=\"checkbox\" ><label for=\"sk-estimator-id-13\" class=\"sk-toggleable__label sk-toggleable__label-arrow\">cat</label><div class=\"sk-toggleable__content\"><pre>[&#x27;Coverage&#x27;, &#x27;Education&#x27;, &#x27;EmploymentStatus&#x27;, &#x27;Gender&#x27;]</pre></div></div></div><div class=\"sk-serial\"><div class=\"sk-item\"><div class=\"sk-serial\"><div class=\"sk-item\"><div class=\"sk-estimator sk-toggleable\"><input class=\"sk-toggleable__control sk-hidden--visually\" id=\"sk-estimator-id-14\" type=\"checkbox\" ><label for=\"sk-estimator-id-14\" class=\"sk-toggleable__label sk-toggleable__label-arrow\">SimpleImputer</label><div class=\"sk-toggleable__content\"><pre>SimpleImputer(strategy=&#x27;most_frequent&#x27;)</pre></div></div></div><div class=\"sk-item\"><div class=\"sk-estimator sk-toggleable\"><input class=\"sk-toggleable__control sk-hidden--visually\" id=\"sk-estimator-id-15\" type=\"checkbox\" ><label for=\"sk-estimator-id-15\" class=\"sk-toggleable__label sk-toggleable__label-arrow\">OneHotEncoder</label><div class=\"sk-toggleable__content\"><pre>OneHotEncoder(handle_unknown=&#x27;ignore&#x27;, sparse=False)</pre></div></div></div></div></div></div></div></div></div></div><div class=\"sk-item\"><div class=\"sk-estimator sk-toggleable\"><input class=\"sk-toggleable__control sk-hidden--visually\" id=\"sk-estimator-id-16\" type=\"checkbox\" ><label for=\"sk-estimator-id-16\" class=\"sk-toggleable__label sk-toggleable__label-arrow\">GradientBoostingClassifier</label><div class=\"sk-toggleable__content\"><pre>GradientBoostingClassifier(learning_rate=1.0686988258771697, random_state=42)</pre></div></div></div></div></div></div></div>"
      ],
      "text/plain": [
       "Pipeline(steps=[('tr',\n",
       "                 ColumnTransformer(transformers=[('num',\n",
       "                                                  Pipeline(steps=[('imp',\n",
       "                                                                   SimpleImputer(strategy='median'))]),\n",
       "                                                  ['Customer Lifetime Value',\n",
       "                                                   'Income',\n",
       "                                                   'Monthly Premium Auto',\n",
       "                                                   'Months Since Last Claim',\n",
       "                                                   'Months Since Policy '\n",
       "                                                   'Inception',\n",
       "                                                   'Number of Open Complaints',\n",
       "                                                   'Number of Policies']),\n",
       "                                                 ('cat',\n",
       "                                                  Pipeline(steps=[('imp',\n",
       "                                                                   SimpleImputer(strategy='most_frequent')),\n",
       "                                                                  ('ohe',\n",
       "                                                                   OneHotEncoder(handle_unknown='ignore',\n",
       "                                                                                 sparse=False))]),\n",
       "                                                  ['Coverage', 'Education',\n",
       "                                                   'EmploymentStatus',\n",
       "                                                   'Gender'])])),\n",
       "                ('boost',\n",
       "                 GradientBoostingClassifier(learning_rate=1.0686988258771697,\n",
       "                                            random_state=42))])"
      ]
     },
     "execution_count": 15,
     "metadata": {},
     "output_type": "execute_result"
    }
   ],
   "source": [
    "pipe"
   ]
  },
  {
   "cell_type": "code",
   "execution_count": 16,
   "id": "c3db8d59",
   "metadata": {},
   "outputs": [
    {
     "data": {
      "text/plain": [
       "{'state': 2,\n",
       " 'tid': 19,\n",
       " 'spec': None,\n",
       " 'result': {'loss': -0.8993970714900948, 'status': 'ok'},\n",
       " 'misc': {'tid': 19,\n",
       "  'cmd': ('domain_attachment', 'FMinIter_Domain'),\n",
       "  'workdir': None,\n",
       "  'idxs': {'boost__learning_rate': [19],\n",
       "   'tr__cat__imp__strategy': [19],\n",
       "   'tr__num__imp__strategy': [19]},\n",
       "  'vals': {'boost__learning_rate': [1.0686988258771697],\n",
       "   'tr__cat__imp__strategy': [0],\n",
       "   'tr__num__imp__strategy': [1]}},\n",
       " 'exp_key': None,\n",
       " 'owner': None,\n",
       " 'version': 0,\n",
       " 'book_time': datetime.datetime(2023, 5, 14, 14, 33, 32, 159000),\n",
       " 'refresh_time': datetime.datetime(2023, 5, 14, 14, 33, 34, 664000)}"
      ]
     },
     "execution_count": 16,
     "metadata": {},
     "output_type": "execute_result"
    }
   ],
   "source": [
    "trials.trials[19]"
   ]
  },
  {
   "cell_type": "code",
   "execution_count": 17,
   "id": "5731594d",
   "metadata": {},
   "outputs": [],
   "source": [
    "def accuracy_test(X_tr, y_tr, X_tst, y_tst, opt_results, space=None, optimize='optuna'):\n",
    "    \n",
    "    if space is None and optimize == 'hyperopt':\n",
    "        raise ValueError('Set search space')\n",
    "    if space is not None and optimize == 'optuna':\n",
    "        raise ValueError('Search space setting only for hyperopt')\n",
    "        \n",
    "    if optimize == 'hyperopt':\n",
    "        opt_results = space_eval(space, opt_results)\n",
    "    \n",
    "    pipe.set_params(**opt_results)\n",
    "    pipe.fit(X_tr, y_tr)\n",
    "    \n",
    "    test_predict = pipe.predict(X_tst)\n",
    "    return accuracy_score(y_tst, test_predict)"
   ]
  },
  {
   "cell_type": "code",
   "execution_count": 18,
   "id": "60e8d905",
   "metadata": {},
   "outputs": [
    {
     "data": {
      "text/plain": [
       "0.9083601286173634"
      ]
     },
     "execution_count": 18,
     "metadata": {},
     "output_type": "execute_result"
    }
   ],
   "source": [
    "accuracy_test(X_train, y_train, X_test, y_test, best, space_hyperopt, 'hyperopt')"
   ]
  },
  {
   "cell_type": "markdown",
   "id": "74727e99",
   "metadata": {},
   "source": [
    "# Scikit-Optimize"
   ]
  },
  {
   "cell_type": "code",
   "execution_count": 19,
   "id": "597e8792",
   "metadata": {},
   "outputs": [],
   "source": [
    "from skopt import BayesSearchCV, gp_minimize\n",
    "from skopt.space import Real, Categorical, Integer\n",
    "from skopt.utils import use_named_args"
   ]
  },
  {
   "cell_type": "code",
   "execution_count": 20,
   "id": "0c30efbb",
   "metadata": {},
   "outputs": [],
   "source": [
    "space_skopt = {\n",
    "    'boost__learning_rate': Real(0.001, 0.1, prior='uniform'),\n",
    "    'boost__max_depth': Integer(2, 8),\n",
    "    'tr__num__imp__strategy': Categorical(['mean', 'median', 'constant']),\n",
    "    'tr__cat__imp__strategy': Categorical(['most_frequent', 'constant'])\n",
    "}"
   ]
  },
  {
   "cell_type": "code",
   "execution_count": 21,
   "id": "b9af0d3b",
   "metadata": {},
   "outputs": [],
   "source": [
    "pipe = clone(initial_pipe)"
   ]
  },
  {
   "cell_type": "code",
   "execution_count": 22,
   "id": "4002606e",
   "metadata": {},
   "outputs": [
    {
     "data": {
      "text/html": [
       "<style>#sk-container-id-3 {color: black;background-color: white;}#sk-container-id-3 pre{padding: 0;}#sk-container-id-3 div.sk-toggleable {background-color: white;}#sk-container-id-3 label.sk-toggleable__label {cursor: pointer;display: block;width: 100%;margin-bottom: 0;padding: 0.3em;box-sizing: border-box;text-align: center;}#sk-container-id-3 label.sk-toggleable__label-arrow:before {content: \"▸\";float: left;margin-right: 0.25em;color: #696969;}#sk-container-id-3 label.sk-toggleable__label-arrow:hover:before {color: black;}#sk-container-id-3 div.sk-estimator:hover label.sk-toggleable__label-arrow:before {color: black;}#sk-container-id-3 div.sk-toggleable__content {max-height: 0;max-width: 0;overflow: hidden;text-align: left;background-color: #f0f8ff;}#sk-container-id-3 div.sk-toggleable__content pre {margin: 0.2em;color: black;border-radius: 0.25em;background-color: #f0f8ff;}#sk-container-id-3 input.sk-toggleable__control:checked~div.sk-toggleable__content {max-height: 200px;max-width: 100%;overflow: auto;}#sk-container-id-3 input.sk-toggleable__control:checked~label.sk-toggleable__label-arrow:before {content: \"▾\";}#sk-container-id-3 div.sk-estimator input.sk-toggleable__control:checked~label.sk-toggleable__label {background-color: #d4ebff;}#sk-container-id-3 div.sk-label input.sk-toggleable__control:checked~label.sk-toggleable__label {background-color: #d4ebff;}#sk-container-id-3 input.sk-hidden--visually {border: 0;clip: rect(1px 1px 1px 1px);clip: rect(1px, 1px, 1px, 1px);height: 1px;margin: -1px;overflow: hidden;padding: 0;position: absolute;width: 1px;}#sk-container-id-3 div.sk-estimator {font-family: monospace;background-color: #f0f8ff;border: 1px dotted black;border-radius: 0.25em;box-sizing: border-box;margin-bottom: 0.5em;}#sk-container-id-3 div.sk-estimator:hover {background-color: #d4ebff;}#sk-container-id-3 div.sk-parallel-item::after {content: \"\";width: 100%;border-bottom: 1px solid gray;flex-grow: 1;}#sk-container-id-3 div.sk-label:hover label.sk-toggleable__label {background-color: #d4ebff;}#sk-container-id-3 div.sk-serial::before {content: \"\";position: absolute;border-left: 1px solid gray;box-sizing: border-box;top: 0;bottom: 0;left: 50%;z-index: 0;}#sk-container-id-3 div.sk-serial {display: flex;flex-direction: column;align-items: center;background-color: white;padding-right: 0.2em;padding-left: 0.2em;position: relative;}#sk-container-id-3 div.sk-item {position: relative;z-index: 1;}#sk-container-id-3 div.sk-parallel {display: flex;align-items: stretch;justify-content: center;background-color: white;position: relative;}#sk-container-id-3 div.sk-item::before, #sk-container-id-3 div.sk-parallel-item::before {content: \"\";position: absolute;border-left: 1px solid gray;box-sizing: border-box;top: 0;bottom: 0;left: 50%;z-index: -1;}#sk-container-id-3 div.sk-parallel-item {display: flex;flex-direction: column;z-index: 1;position: relative;background-color: white;}#sk-container-id-3 div.sk-parallel-item:first-child::after {align-self: flex-end;width: 50%;}#sk-container-id-3 div.sk-parallel-item:last-child::after {align-self: flex-start;width: 50%;}#sk-container-id-3 div.sk-parallel-item:only-child::after {width: 0;}#sk-container-id-3 div.sk-dashed-wrapped {border: 1px dashed gray;margin: 0 0.4em 0.5em 0.4em;box-sizing: border-box;padding-bottom: 0.4em;background-color: white;}#sk-container-id-3 div.sk-label label {font-family: monospace;font-weight: bold;display: inline-block;line-height: 1.2em;}#sk-container-id-3 div.sk-label-container {text-align: center;}#sk-container-id-3 div.sk-container {/* jupyter's `normalize.less` sets `[hidden] { display: none; }` but bootstrap.min.css set `[hidden] { display: none !important; }` so we also need the `!important` here to be able to override the default hidden behavior on the sphinx rendered scikit-learn.org. See: https://github.com/scikit-learn/scikit-learn/issues/21755 */display: inline-block !important;position: relative;}#sk-container-id-3 div.sk-text-repr-fallback {display: none;}</style><div id=\"sk-container-id-3\" class=\"sk-top-container\"><div class=\"sk-text-repr-fallback\"><pre>BayesSearchCV(cv=5,\n",
       "              estimator=Pipeline(steps=[(&#x27;tr&#x27;,\n",
       "                                         ColumnTransformer(transformers=[(&#x27;num&#x27;,\n",
       "                                                                          Pipeline(steps=[(&#x27;imp&#x27;,\n",
       "                                                                                           SimpleImputer())]),\n",
       "                                                                          [&#x27;Customer &#x27;\n",
       "                                                                           &#x27;Lifetime &#x27;\n",
       "                                                                           &#x27;Value&#x27;,\n",
       "                                                                           &#x27;Income&#x27;,\n",
       "                                                                           &#x27;Monthly &#x27;\n",
       "                                                                           &#x27;Premium &#x27;\n",
       "                                                                           &#x27;Auto&#x27;,\n",
       "                                                                           &#x27;Months &#x27;\n",
       "                                                                           &#x27;Since &#x27;\n",
       "                                                                           &#x27;Last &#x27;\n",
       "                                                                           &#x27;Claim&#x27;,\n",
       "                                                                           &#x27;Months &#x27;\n",
       "                                                                           &#x27;Since &#x27;\n",
       "                                                                           &#x27;Policy &#x27;\n",
       "                                                                           &#x27;Inception&#x27;,\n",
       "                                                                           &#x27;Number &#x27;\n",
       "                                                                           &#x27;of &#x27;\n",
       "                                                                           &#x27;Open &#x27;\n",
       "                                                                           &#x27;Complaints&#x27;,\n",
       "                                                                           &#x27;Number &#x27;\n",
       "                                                                           &#x27;of &#x27;\n",
       "                                                                           &#x27;Policies&#x27;]),\n",
       "                                                                         (&#x27;cat&#x27;,\n",
       "                                                                          Pipeline(steps=[(&#x27;imp&#x27;,\n",
       "                                                                                           Simpl...\n",
       "              search_spaces={&#x27;boost__learning_rate&#x27;: Real(low=0.001, high=0.1, prior=&#x27;uniform&#x27;, transform=&#x27;normalize&#x27;),\n",
       "                             &#x27;boost__max_depth&#x27;: Integer(low=2, high=8, prior=&#x27;uniform&#x27;, transform=&#x27;normalize&#x27;),\n",
       "                             &#x27;tr__cat__imp__strategy&#x27;: Categorical(categories=(&#x27;most_frequent&#x27;, &#x27;constant&#x27;), prior=None),\n",
       "                             &#x27;tr__num__imp__strategy&#x27;: Categorical(categories=(&#x27;mean&#x27;, &#x27;median&#x27;, &#x27;constant&#x27;), prior=None)})</pre><b>In a Jupyter environment, please rerun this cell to show the HTML representation or trust the notebook. <br />On GitHub, the HTML representation is unable to render, please try loading this page with nbviewer.org.</b></div><div class=\"sk-container\" hidden><div class=\"sk-item sk-dashed-wrapped\"><div class=\"sk-label-container\"><div class=\"sk-label sk-toggleable\"><input class=\"sk-toggleable__control sk-hidden--visually\" id=\"sk-estimator-id-17\" type=\"checkbox\" ><label for=\"sk-estimator-id-17\" class=\"sk-toggleable__label sk-toggleable__label-arrow\">BayesSearchCV</label><div class=\"sk-toggleable__content\"><pre>BayesSearchCV(cv=5,\n",
       "              estimator=Pipeline(steps=[(&#x27;tr&#x27;,\n",
       "                                         ColumnTransformer(transformers=[(&#x27;num&#x27;,\n",
       "                                                                          Pipeline(steps=[(&#x27;imp&#x27;,\n",
       "                                                                                           SimpleImputer())]),\n",
       "                                                                          [&#x27;Customer &#x27;\n",
       "                                                                           &#x27;Lifetime &#x27;\n",
       "                                                                           &#x27;Value&#x27;,\n",
       "                                                                           &#x27;Income&#x27;,\n",
       "                                                                           &#x27;Monthly &#x27;\n",
       "                                                                           &#x27;Premium &#x27;\n",
       "                                                                           &#x27;Auto&#x27;,\n",
       "                                                                           &#x27;Months &#x27;\n",
       "                                                                           &#x27;Since &#x27;\n",
       "                                                                           &#x27;Last &#x27;\n",
       "                                                                           &#x27;Claim&#x27;,\n",
       "                                                                           &#x27;Months &#x27;\n",
       "                                                                           &#x27;Since &#x27;\n",
       "                                                                           &#x27;Policy &#x27;\n",
       "                                                                           &#x27;Inception&#x27;,\n",
       "                                                                           &#x27;Number &#x27;\n",
       "                                                                           &#x27;of &#x27;\n",
       "                                                                           &#x27;Open &#x27;\n",
       "                                                                           &#x27;Complaints&#x27;,\n",
       "                                                                           &#x27;Number &#x27;\n",
       "                                                                           &#x27;of &#x27;\n",
       "                                                                           &#x27;Policies&#x27;]),\n",
       "                                                                         (&#x27;cat&#x27;,\n",
       "                                                                          Pipeline(steps=[(&#x27;imp&#x27;,\n",
       "                                                                                           Simpl...\n",
       "              search_spaces={&#x27;boost__learning_rate&#x27;: Real(low=0.001, high=0.1, prior=&#x27;uniform&#x27;, transform=&#x27;normalize&#x27;),\n",
       "                             &#x27;boost__max_depth&#x27;: Integer(low=2, high=8, prior=&#x27;uniform&#x27;, transform=&#x27;normalize&#x27;),\n",
       "                             &#x27;tr__cat__imp__strategy&#x27;: Categorical(categories=(&#x27;most_frequent&#x27;, &#x27;constant&#x27;), prior=None),\n",
       "                             &#x27;tr__num__imp__strategy&#x27;: Categorical(categories=(&#x27;mean&#x27;, &#x27;median&#x27;, &#x27;constant&#x27;), prior=None)})</pre></div></div></div><div class=\"sk-parallel\"><div class=\"sk-parallel-item\"><div class=\"sk-item\"><div class=\"sk-label-container\"><div class=\"sk-label sk-toggleable\"><input class=\"sk-toggleable__control sk-hidden--visually\" id=\"sk-estimator-id-18\" type=\"checkbox\" ><label for=\"sk-estimator-id-18\" class=\"sk-toggleable__label sk-toggleable__label-arrow\">estimator: Pipeline</label><div class=\"sk-toggleable__content\"><pre>Pipeline(steps=[(&#x27;tr&#x27;,\n",
       "                 ColumnTransformer(transformers=[(&#x27;num&#x27;,\n",
       "                                                  Pipeline(steps=[(&#x27;imp&#x27;,\n",
       "                                                                   SimpleImputer())]),\n",
       "                                                  [&#x27;Customer Lifetime Value&#x27;,\n",
       "                                                   &#x27;Income&#x27;,\n",
       "                                                   &#x27;Monthly Premium Auto&#x27;,\n",
       "                                                   &#x27;Months Since Last Claim&#x27;,\n",
       "                                                   &#x27;Months Since Policy &#x27;\n",
       "                                                   &#x27;Inception&#x27;,\n",
       "                                                   &#x27;Number of Open Complaints&#x27;,\n",
       "                                                   &#x27;Number of Policies&#x27;]),\n",
       "                                                 (&#x27;cat&#x27;,\n",
       "                                                  Pipeline(steps=[(&#x27;imp&#x27;,\n",
       "                                                                   SimpleImputer()),\n",
       "                                                                  (&#x27;ohe&#x27;,\n",
       "                                                                   OneHotEncoder(handle_unknown=&#x27;ignore&#x27;,\n",
       "                                                                                 sparse=False))]),\n",
       "                                                  [&#x27;Coverage&#x27;, &#x27;Education&#x27;,\n",
       "                                                   &#x27;EmploymentStatus&#x27;,\n",
       "                                                   &#x27;Gender&#x27;])])),\n",
       "                (&#x27;boost&#x27;, GradientBoostingClassifier(random_state=42))])</pre></div></div></div><div class=\"sk-serial\"><div class=\"sk-item\"><div class=\"sk-serial\"><div class=\"sk-item sk-dashed-wrapped\"><div class=\"sk-label-container\"><div class=\"sk-label sk-toggleable\"><input class=\"sk-toggleable__control sk-hidden--visually\" id=\"sk-estimator-id-19\" type=\"checkbox\" ><label for=\"sk-estimator-id-19\" class=\"sk-toggleable__label sk-toggleable__label-arrow\">tr: ColumnTransformer</label><div class=\"sk-toggleable__content\"><pre>ColumnTransformer(transformers=[(&#x27;num&#x27;,\n",
       "                                 Pipeline(steps=[(&#x27;imp&#x27;, SimpleImputer())]),\n",
       "                                 [&#x27;Customer Lifetime Value&#x27;, &#x27;Income&#x27;,\n",
       "                                  &#x27;Monthly Premium Auto&#x27;,\n",
       "                                  &#x27;Months Since Last Claim&#x27;,\n",
       "                                  &#x27;Months Since Policy Inception&#x27;,\n",
       "                                  &#x27;Number of Open Complaints&#x27;,\n",
       "                                  &#x27;Number of Policies&#x27;]),\n",
       "                                (&#x27;cat&#x27;,\n",
       "                                 Pipeline(steps=[(&#x27;imp&#x27;, SimpleImputer()),\n",
       "                                                 (&#x27;ohe&#x27;,\n",
       "                                                  OneHotEncoder(handle_unknown=&#x27;ignore&#x27;,\n",
       "                                                                sparse=False))]),\n",
       "                                 [&#x27;Coverage&#x27;, &#x27;Education&#x27;, &#x27;EmploymentStatus&#x27;,\n",
       "                                  &#x27;Gender&#x27;])])</pre></div></div></div><div class=\"sk-parallel\"><div class=\"sk-parallel-item\"><div class=\"sk-item\"><div class=\"sk-label-container\"><div class=\"sk-label sk-toggleable\"><input class=\"sk-toggleable__control sk-hidden--visually\" id=\"sk-estimator-id-20\" type=\"checkbox\" ><label for=\"sk-estimator-id-20\" class=\"sk-toggleable__label sk-toggleable__label-arrow\">num</label><div class=\"sk-toggleable__content\"><pre>[&#x27;Customer Lifetime Value&#x27;, &#x27;Income&#x27;, &#x27;Monthly Premium Auto&#x27;, &#x27;Months Since Last Claim&#x27;, &#x27;Months Since Policy Inception&#x27;, &#x27;Number of Open Complaints&#x27;, &#x27;Number of Policies&#x27;]</pre></div></div></div><div class=\"sk-serial\"><div class=\"sk-item\"><div class=\"sk-serial\"><div class=\"sk-item\"><div class=\"sk-estimator sk-toggleable\"><input class=\"sk-toggleable__control sk-hidden--visually\" id=\"sk-estimator-id-21\" type=\"checkbox\" ><label for=\"sk-estimator-id-21\" class=\"sk-toggleable__label sk-toggleable__label-arrow\">SimpleImputer</label><div class=\"sk-toggleable__content\"><pre>SimpleImputer()</pre></div></div></div></div></div></div></div></div><div class=\"sk-parallel-item\"><div class=\"sk-item\"><div class=\"sk-label-container\"><div class=\"sk-label sk-toggleable\"><input class=\"sk-toggleable__control sk-hidden--visually\" id=\"sk-estimator-id-22\" type=\"checkbox\" ><label for=\"sk-estimator-id-22\" class=\"sk-toggleable__label sk-toggleable__label-arrow\">cat</label><div class=\"sk-toggleable__content\"><pre>[&#x27;Coverage&#x27;, &#x27;Education&#x27;, &#x27;EmploymentStatus&#x27;, &#x27;Gender&#x27;]</pre></div></div></div><div class=\"sk-serial\"><div class=\"sk-item\"><div class=\"sk-serial\"><div class=\"sk-item\"><div class=\"sk-estimator sk-toggleable\"><input class=\"sk-toggleable__control sk-hidden--visually\" id=\"sk-estimator-id-23\" type=\"checkbox\" ><label for=\"sk-estimator-id-23\" class=\"sk-toggleable__label sk-toggleable__label-arrow\">SimpleImputer</label><div class=\"sk-toggleable__content\"><pre>SimpleImputer()</pre></div></div></div><div class=\"sk-item\"><div class=\"sk-estimator sk-toggleable\"><input class=\"sk-toggleable__control sk-hidden--visually\" id=\"sk-estimator-id-24\" type=\"checkbox\" ><label for=\"sk-estimator-id-24\" class=\"sk-toggleable__label sk-toggleable__label-arrow\">OneHotEncoder</label><div class=\"sk-toggleable__content\"><pre>OneHotEncoder(handle_unknown=&#x27;ignore&#x27;, sparse=False)</pre></div></div></div></div></div></div></div></div></div></div><div class=\"sk-item\"><div class=\"sk-estimator sk-toggleable\"><input class=\"sk-toggleable__control sk-hidden--visually\" id=\"sk-estimator-id-25\" type=\"checkbox\" ><label for=\"sk-estimator-id-25\" class=\"sk-toggleable__label sk-toggleable__label-arrow\">GradientBoostingClassifier</label><div class=\"sk-toggleable__content\"><pre>GradientBoostingClassifier(random_state=42)</pre></div></div></div></div></div></div></div></div></div></div></div></div>"
      ],
      "text/plain": [
       "BayesSearchCV(cv=5,\n",
       "              estimator=Pipeline(steps=[('tr',\n",
       "                                         ColumnTransformer(transformers=[('num',\n",
       "                                                                          Pipeline(steps=[('imp',\n",
       "                                                                                           SimpleImputer())]),\n",
       "                                                                          ['Customer '\n",
       "                                                                           'Lifetime '\n",
       "                                                                           'Value',\n",
       "                                                                           'Income',\n",
       "                                                                           'Monthly '\n",
       "                                                                           'Premium '\n",
       "                                                                           'Auto',\n",
       "                                                                           'Months '\n",
       "                                                                           'Since '\n",
       "                                                                           'Last '\n",
       "                                                                           'Claim',\n",
       "                                                                           'Months '\n",
       "                                                                           'Since '\n",
       "                                                                           'Policy '\n",
       "                                                                           'Inception',\n",
       "                                                                           'Number '\n",
       "                                                                           'of '\n",
       "                                                                           'Open '\n",
       "                                                                           'Complaints',\n",
       "                                                                           'Number '\n",
       "                                                                           'of '\n",
       "                                                                           'Policies']),\n",
       "                                                                         ('cat',\n",
       "                                                                          Pipeline(steps=[('imp',\n",
       "                                                                                           Simpl...\n",
       "              search_spaces={'boost__learning_rate': Real(low=0.001, high=0.1, prior='uniform', transform='normalize'),\n",
       "                             'boost__max_depth': Integer(low=2, high=8, prior='uniform', transform='normalize'),\n",
       "                             'tr__cat__imp__strategy': Categorical(categories=('most_frequent', 'constant'), prior=None),\n",
       "                             'tr__num__imp__strategy': Categorical(categories=('mean', 'median', 'constant'), prior=None)})"
      ]
     },
     "execution_count": 22,
     "metadata": {},
     "output_type": "execute_result"
    }
   ],
   "source": [
    "opt = BayesSearchCV(pipe, space_skopt, n_iter=10, scoring='accuracy', random_state=42, cv=5)\n",
    "opt.fit(X_train, y_train)"
   ]
  },
  {
   "cell_type": "code",
   "execution_count": 23,
   "id": "ab004e2e",
   "metadata": {},
   "outputs": [
    {
     "name": "stdout",
     "output_type": "stream",
     "text": [
      "9.236864771748493e-01\n",
      "{'boost__learning_rate': 0.07366877378057127, 'boost__max_depth': 8, 'tr__cat__imp__strategy': 'constant', 'tr__num__imp__strategy': 'constant'}\n",
      "0.9368971061093248\n"
     ]
    }
   ],
   "source": [
    "print(opt.best_score_)\n",
    "print(json.loads(json.dumps(opt.best_params_)))\n",
    "print(opt.score(X_test, y_test))"
   ]
  },
  {
   "cell_type": "code",
   "execution_count": 24,
   "id": "48fda71f",
   "metadata": {},
   "outputs": [
    {
     "data": {
      "text/html": [
       "<div>\n",
       "<style scoped>\n",
       "    .dataframe tbody tr th:only-of-type {\n",
       "        vertical-align: middle;\n",
       "    }\n",
       "\n",
       "    .dataframe tbody tr th {\n",
       "        vertical-align: top;\n",
       "    }\n",
       "\n",
       "    .dataframe thead th {\n",
       "        text-align: right;\n",
       "    }\n",
       "</style>\n",
       "<table border=\"1\" class=\"dataframe\">\n",
       "  <thead>\n",
       "    <tr style=\"text-align: right;\">\n",
       "      <th></th>\n",
       "      <th></th>\n",
       "      <th></th>\n",
       "      <th></th>\n",
       "      <th>mean_test_score</th>\n",
       "    </tr>\n",
       "    <tr>\n",
       "      <th>boost__learning_rate</th>\n",
       "      <th>boost__max_depth</th>\n",
       "      <th>tr__cat__imp__strategy</th>\n",
       "      <th>tr__num__imp__strategy</th>\n",
       "      <th></th>\n",
       "    </tr>\n",
       "  </thead>\n",
       "  <tbody>\n",
       "    <tr>\n",
       "      <th>0.073669</th>\n",
       "      <th>8</th>\n",
       "      <th>constant</th>\n",
       "      <th>constant</th>\n",
       "      <td>0.923686</td>\n",
       "    </tr>\n",
       "    <tr>\n",
       "      <th>0.083901</th>\n",
       "      <th>7</th>\n",
       "      <th>constant</th>\n",
       "      <th>median</th>\n",
       "      <td>0.920930</td>\n",
       "    </tr>\n",
       "    <tr>\n",
       "      <th>0.054797</th>\n",
       "      <th>8</th>\n",
       "      <th>constant</th>\n",
       "      <th>median</th>\n",
       "      <td>0.919552</td>\n",
       "    </tr>\n",
       "    <tr>\n",
       "      <th>0.045038</th>\n",
       "      <th>8</th>\n",
       "      <th>constant</th>\n",
       "      <th>mean</th>\n",
       "      <td>0.917657</td>\n",
       "    </tr>\n",
       "    <tr>\n",
       "      <th>0.095592</th>\n",
       "      <th>6</th>\n",
       "      <th>most_frequent</th>\n",
       "      <th>mean</th>\n",
       "      <td>0.917485</td>\n",
       "    </tr>\n",
       "    <tr>\n",
       "      <th>0.062091</th>\n",
       "      <th>7</th>\n",
       "      <th>constant</th>\n",
       "      <th>median</th>\n",
       "      <td>0.916968</td>\n",
       "    </tr>\n",
       "    <tr>\n",
       "      <th>0.080156</th>\n",
       "      <th>5</th>\n",
       "      <th>most_frequent</th>\n",
       "      <th>mean</th>\n",
       "      <td>0.907666</td>\n",
       "    </tr>\n",
       "    <tr>\n",
       "      <th>0.041600</th>\n",
       "      <th>6</th>\n",
       "      <th>most_frequent</th>\n",
       "      <th>mean</th>\n",
       "      <td>0.907321</td>\n",
       "    </tr>\n",
       "    <tr>\n",
       "      <th>0.081427</th>\n",
       "      <th>3</th>\n",
       "      <th>most_frequent</th>\n",
       "      <th>median</th>\n",
       "      <td>0.901292</td>\n",
       "    </tr>\n",
       "    <tr>\n",
       "      <th>0.001359</th>\n",
       "      <th>7</th>\n",
       "      <th>most_frequent</th>\n",
       "      <th>mean</th>\n",
       "      <td>0.899742</td>\n",
       "    </tr>\n",
       "  </tbody>\n",
       "</table>\n",
       "</div>"
      ],
      "text/plain": [
       "                                                                                     mean_test_score\n",
       "boost__learning_rate boost__max_depth tr__cat__imp__strategy tr__num__imp__strategy                 \n",
       "0.073669             8                constant               constant                       0.923686\n",
       "0.083901             7                constant               median                         0.920930\n",
       "0.054797             8                constant               median                         0.919552\n",
       "0.045038             8                constant               mean                           0.917657\n",
       "0.095592             6                most_frequent          mean                           0.917485\n",
       "0.062091             7                constant               median                         0.916968\n",
       "0.080156             5                most_frequent          mean                           0.907666\n",
       "0.041600             6                most_frequent          mean                           0.907321\n",
       "0.081427             3                most_frequent          median                         0.901292\n",
       "0.001359             7                most_frequent          mean                           0.899742"
      ]
     },
     "execution_count": 24,
     "metadata": {},
     "output_type": "execute_result"
    }
   ],
   "source": [
    "results = pd.DataFrame(opt.cv_results_)\n",
    "results.columns = results.columns.str.replace('param_', '')\n",
    "tbl = results.pivot_table(values=['mean_test_score'],\n",
    "                         index=['boost__learning_rate',\n",
    "                               'boost__max_depth',\n",
    "                               'tr__cat__imp__strategy',\n",
    "                               'tr__num__imp__strategy'])\n",
    "\n",
    "tbl = tbl.sort_values(by='mean_test_score', ascending=False)\n",
    "tbl"
   ]
  },
  {
   "cell_type": "code",
   "execution_count": 25,
   "id": "f1ee71c3",
   "metadata": {},
   "outputs": [],
   "source": [
    "pipe = clone(initial_pipe)"
   ]
  },
  {
   "cell_type": "code",
   "execution_count": 26,
   "id": "ac14f900",
   "metadata": {},
   "outputs": [],
   "source": [
    "space_skopt2 = [\n",
    "    Real(0.001, 0.1, name='boost__learning_rate', prior='uniform'),\n",
    "    Integer(2, 8, name='boost__max_depth'),\n",
    "    Categorical(['mean', 'median', 'constant'], name='tr__num__imp__strategy'),\n",
    "    Categorical(['most_frequent', 'constant'], name='tr__cat__imp__strategy')\n",
    "]"
   ]
  },
  {
   "cell_type": "code",
   "execution_count": 27,
   "id": "bf9b0d2f",
   "metadata": {},
   "outputs": [],
   "source": [
    "@use_named_args(space_skopt2)\n",
    "def objective(**params):\n",
    "    pipe.set_params(**params)\n",
    "    return -np.mean(cross_val_score(pipe, \n",
    "                                   X_train,\n",
    "                                   y_train, \n",
    "                                   cv=5,\n",
    "                                   n_jobs=-1))"
   ]
  },
  {
   "cell_type": "code",
   "execution_count": 28,
   "id": "6e9e9e20",
   "metadata": {},
   "outputs": [
    {
     "name": "stderr",
     "output_type": "stream",
     "text": [
      "/home/tigran/anaconda3/lib/python3.9/site-packages/sklearn/preprocessing/_encoders.py:868: FutureWarning: `sparse` was renamed to `sparse_output` in version 1.2 and will be removed in 1.4. `sparse_output` is ignored unless you leave `sparse` to its default value.\n",
      "  warnings.warn(\n",
      "/home/tigran/anaconda3/lib/python3.9/site-packages/sklearn/preprocessing/_encoders.py:868: FutureWarning: `sparse` was renamed to `sparse_output` in version 1.2 and will be removed in 1.4. `sparse_output` is ignored unless you leave `sparse` to its default value.\n",
      "  warnings.warn(\n",
      "/home/tigran/anaconda3/lib/python3.9/site-packages/sklearn/preprocessing/_encoders.py:868: FutureWarning: `sparse` was renamed to `sparse_output` in version 1.2 and will be removed in 1.4. `sparse_output` is ignored unless you leave `sparse` to its default value.\n",
      "  warnings.warn(\n",
      "/home/tigran/anaconda3/lib/python3.9/site-packages/sklearn/preprocessing/_encoders.py:868: FutureWarning: `sparse` was renamed to `sparse_output` in version 1.2 and will be removed in 1.4. `sparse_output` is ignored unless you leave `sparse` to its default value.\n",
      "  warnings.warn(\n",
      "/home/tigran/anaconda3/lib/python3.9/site-packages/sklearn/preprocessing/_encoders.py:868: FutureWarning: `sparse` was renamed to `sparse_output` in version 1.2 and will be removed in 1.4. `sparse_output` is ignored unless you leave `sparse` to its default value.\n",
      "  warnings.warn(\n",
      "/home/tigran/anaconda3/lib/python3.9/site-packages/sklearn/preprocessing/_encoders.py:868: FutureWarning: `sparse` was renamed to `sparse_output` in version 1.2 and will be removed in 1.4. `sparse_output` is ignored unless you leave `sparse` to its default value.\n",
      "  warnings.warn(\n",
      "/home/tigran/anaconda3/lib/python3.9/site-packages/sklearn/preprocessing/_encoders.py:868: FutureWarning: `sparse` was renamed to `sparse_output` in version 1.2 and will be removed in 1.4. `sparse_output` is ignored unless you leave `sparse` to its default value.\n",
      "  warnings.warn(\n",
      "/home/tigran/anaconda3/lib/python3.9/site-packages/sklearn/preprocessing/_encoders.py:868: FutureWarning: `sparse` was renamed to `sparse_output` in version 1.2 and will be removed in 1.4. `sparse_output` is ignored unless you leave `sparse` to its default value.\n",
      "  warnings.warn(\n",
      "/home/tigran/anaconda3/lib/python3.9/site-packages/sklearn/preprocessing/_encoders.py:868: FutureWarning: `sparse` was renamed to `sparse_output` in version 1.2 and will be removed in 1.4. `sparse_output` is ignored unless you leave `sparse` to its default value.\n",
      "  warnings.warn(\n",
      "/home/tigran/anaconda3/lib/python3.9/site-packages/sklearn/preprocessing/_encoders.py:868: FutureWarning: `sparse` was renamed to `sparse_output` in version 1.2 and will be removed in 1.4. `sparse_output` is ignored unless you leave `sparse` to its default value.\n",
      "  warnings.warn(\n",
      "/home/tigran/anaconda3/lib/python3.9/site-packages/sklearn/preprocessing/_encoders.py:868: FutureWarning: `sparse` was renamed to `sparse_output` in version 1.2 and will be removed in 1.4. `sparse_output` is ignored unless you leave `sparse` to its default value.\n",
      "  warnings.warn(\n",
      "/home/tigran/anaconda3/lib/python3.9/site-packages/sklearn/preprocessing/_encoders.py:868: FutureWarning: `sparse` was renamed to `sparse_output` in version 1.2 and will be removed in 1.4. `sparse_output` is ignored unless you leave `sparse` to its default value.\n",
      "  warnings.warn(\n",
      "/home/tigran/anaconda3/lib/python3.9/site-packages/sklearn/preprocessing/_encoders.py:868: FutureWarning: `sparse` was renamed to `sparse_output` in version 1.2 and will be removed in 1.4. `sparse_output` is ignored unless you leave `sparse` to its default value.\n",
      "  warnings.warn(\n",
      "/home/tigran/anaconda3/lib/python3.9/site-packages/sklearn/preprocessing/_encoders.py:868: FutureWarning: `sparse` was renamed to `sparse_output` in version 1.2 and will be removed in 1.4. `sparse_output` is ignored unless you leave `sparse` to its default value.\n",
      "  warnings.warn(\n",
      "/home/tigran/anaconda3/lib/python3.9/site-packages/sklearn/preprocessing/_encoders.py:868: FutureWarning: `sparse` was renamed to `sparse_output` in version 1.2 and will be removed in 1.4. `sparse_output` is ignored unless you leave `sparse` to its default value.\n",
      "  warnings.warn(\n",
      "/home/tigran/anaconda3/lib/python3.9/site-packages/sklearn/preprocessing/_encoders.py:868: FutureWarning: `sparse` was renamed to `sparse_output` in version 1.2 and will be removed in 1.4. `sparse_output` is ignored unless you leave `sparse` to its default value.\n",
      "  warnings.warn(\n",
      "/home/tigran/anaconda3/lib/python3.9/site-packages/sklearn/preprocessing/_encoders.py:868: FutureWarning: `sparse` was renamed to `sparse_output` in version 1.2 and will be removed in 1.4. `sparse_output` is ignored unless you leave `sparse` to its default value.\n",
      "  warnings.warn(\n",
      "/home/tigran/anaconda3/lib/python3.9/site-packages/sklearn/preprocessing/_encoders.py:868: FutureWarning: `sparse` was renamed to `sparse_output` in version 1.2 and will be removed in 1.4. `sparse_output` is ignored unless you leave `sparse` to its default value.\n",
      "  warnings.warn(\n",
      "/home/tigran/anaconda3/lib/python3.9/site-packages/sklearn/preprocessing/_encoders.py:868: FutureWarning: `sparse` was renamed to `sparse_output` in version 1.2 and will be removed in 1.4. `sparse_output` is ignored unless you leave `sparse` to its default value.\n",
      "  warnings.warn(\n",
      "/home/tigran/anaconda3/lib/python3.9/site-packages/sklearn/preprocessing/_encoders.py:868: FutureWarning: `sparse` was renamed to `sparse_output` in version 1.2 and will be removed in 1.4. `sparse_output` is ignored unless you leave `sparse` to its default value.\n",
      "  warnings.warn(\n",
      "/home/tigran/anaconda3/lib/python3.9/site-packages/sklearn/preprocessing/_encoders.py:868: FutureWarning: `sparse` was renamed to `sparse_output` in version 1.2 and will be removed in 1.4. `sparse_output` is ignored unless you leave `sparse` to its default value.\n",
      "  warnings.warn(\n",
      "/home/tigran/anaconda3/lib/python3.9/site-packages/sklearn/preprocessing/_encoders.py:868: FutureWarning: `sparse` was renamed to `sparse_output` in version 1.2 and will be removed in 1.4. `sparse_output` is ignored unless you leave `sparse` to its default value.\n",
      "  warnings.warn(\n",
      "/home/tigran/anaconda3/lib/python3.9/site-packages/sklearn/preprocessing/_encoders.py:868: FutureWarning: `sparse` was renamed to `sparse_output` in version 1.2 and will be removed in 1.4. `sparse_output` is ignored unless you leave `sparse` to its default value.\n",
      "  warnings.warn(\n",
      "/home/tigran/anaconda3/lib/python3.9/site-packages/sklearn/preprocessing/_encoders.py:868: FutureWarning: `sparse` was renamed to `sparse_output` in version 1.2 and will be removed in 1.4. `sparse_output` is ignored unless you leave `sparse` to its default value.\n",
      "  warnings.warn(\n",
      "/home/tigran/anaconda3/lib/python3.9/site-packages/sklearn/preprocessing/_encoders.py:868: FutureWarning: `sparse` was renamed to `sparse_output` in version 1.2 and will be removed in 1.4. `sparse_output` is ignored unless you leave `sparse` to its default value.\n",
      "  warnings.warn(\n",
      "/home/tigran/anaconda3/lib/python3.9/site-packages/sklearn/preprocessing/_encoders.py:868: FutureWarning: `sparse` was renamed to `sparse_output` in version 1.2 and will be removed in 1.4. `sparse_output` is ignored unless you leave `sparse` to its default value.\n",
      "  warnings.warn(\n",
      "/home/tigran/anaconda3/lib/python3.9/site-packages/sklearn/preprocessing/_encoders.py:868: FutureWarning: `sparse` was renamed to `sparse_output` in version 1.2 and will be removed in 1.4. `sparse_output` is ignored unless you leave `sparse` to its default value.\n",
      "  warnings.warn(\n",
      "/home/tigran/anaconda3/lib/python3.9/site-packages/sklearn/preprocessing/_encoders.py:868: FutureWarning: `sparse` was renamed to `sparse_output` in version 1.2 and will be removed in 1.4. `sparse_output` is ignored unless you leave `sparse` to its default value.\n",
      "  warnings.warn(\n",
      "/home/tigran/anaconda3/lib/python3.9/site-packages/sklearn/preprocessing/_encoders.py:868: FutureWarning: `sparse` was renamed to `sparse_output` in version 1.2 and will be removed in 1.4. `sparse_output` is ignored unless you leave `sparse` to its default value.\n",
      "  warnings.warn(\n",
      "/home/tigran/anaconda3/lib/python3.9/site-packages/sklearn/preprocessing/_encoders.py:868: FutureWarning: `sparse` was renamed to `sparse_output` in version 1.2 and will be removed in 1.4. `sparse_output` is ignored unless you leave `sparse` to its default value.\n",
      "  warnings.warn(\n"
     ]
    },
    {
     "name": "stderr",
     "output_type": "stream",
     "text": [
      "/home/tigran/anaconda3/lib/python3.9/site-packages/sklearn/preprocessing/_encoders.py:868: FutureWarning: `sparse` was renamed to `sparse_output` in version 1.2 and will be removed in 1.4. `sparse_output` is ignored unless you leave `sparse` to its default value.\n",
      "  warnings.warn(\n",
      "/home/tigran/anaconda3/lib/python3.9/site-packages/sklearn/preprocessing/_encoders.py:868: FutureWarning: `sparse` was renamed to `sparse_output` in version 1.2 and will be removed in 1.4. `sparse_output` is ignored unless you leave `sparse` to its default value.\n",
      "  warnings.warn(\n",
      "/home/tigran/anaconda3/lib/python3.9/site-packages/sklearn/preprocessing/_encoders.py:868: FutureWarning: `sparse` was renamed to `sparse_output` in version 1.2 and will be removed in 1.4. `sparse_output` is ignored unless you leave `sparse` to its default value.\n",
      "  warnings.warn(\n",
      "/home/tigran/anaconda3/lib/python3.9/site-packages/sklearn/preprocessing/_encoders.py:868: FutureWarning: `sparse` was renamed to `sparse_output` in version 1.2 and will be removed in 1.4. `sparse_output` is ignored unless you leave `sparse` to its default value.\n",
      "  warnings.warn(\n",
      "/home/tigran/anaconda3/lib/python3.9/site-packages/sklearn/preprocessing/_encoders.py:868: FutureWarning: `sparse` was renamed to `sparse_output` in version 1.2 and will be removed in 1.4. `sparse_output` is ignored unless you leave `sparse` to its default value.\n",
      "  warnings.warn(\n",
      "/home/tigran/anaconda3/lib/python3.9/site-packages/sklearn/preprocessing/_encoders.py:868: FutureWarning: `sparse` was renamed to `sparse_output` in version 1.2 and will be removed in 1.4. `sparse_output` is ignored unless you leave `sparse` to its default value.\n",
      "  warnings.warn(\n",
      "/home/tigran/anaconda3/lib/python3.9/site-packages/sklearn/preprocessing/_encoders.py:868: FutureWarning: `sparse` was renamed to `sparse_output` in version 1.2 and will be removed in 1.4. `sparse_output` is ignored unless you leave `sparse` to its default value.\n",
      "  warnings.warn(\n",
      "/home/tigran/anaconda3/lib/python3.9/site-packages/sklearn/preprocessing/_encoders.py:868: FutureWarning: `sparse` was renamed to `sparse_output` in version 1.2 and will be removed in 1.4. `sparse_output` is ignored unless you leave `sparse` to its default value.\n",
      "  warnings.warn(\n",
      "/home/tigran/anaconda3/lib/python3.9/site-packages/sklearn/preprocessing/_encoders.py:868: FutureWarning: `sparse` was renamed to `sparse_output` in version 1.2 and will be removed in 1.4. `sparse_output` is ignored unless you leave `sparse` to its default value.\n",
      "  warnings.warn(\n",
      "/home/tigran/anaconda3/lib/python3.9/site-packages/sklearn/preprocessing/_encoders.py:868: FutureWarning: `sparse` was renamed to `sparse_output` in version 1.2 and will be removed in 1.4. `sparse_output` is ignored unless you leave `sparse` to its default value.\n",
      "  warnings.warn(\n",
      "/home/tigran/anaconda3/lib/python3.9/site-packages/sklearn/preprocessing/_encoders.py:868: FutureWarning: `sparse` was renamed to `sparse_output` in version 1.2 and will be removed in 1.4. `sparse_output` is ignored unless you leave `sparse` to its default value.\n",
      "  warnings.warn(\n",
      "/home/tigran/anaconda3/lib/python3.9/site-packages/sklearn/preprocessing/_encoders.py:868: FutureWarning: `sparse` was renamed to `sparse_output` in version 1.2 and will be removed in 1.4. `sparse_output` is ignored unless you leave `sparse` to its default value.\n",
      "  warnings.warn(\n",
      "/home/tigran/anaconda3/lib/python3.9/site-packages/sklearn/preprocessing/_encoders.py:868: FutureWarning: `sparse` was renamed to `sparse_output` in version 1.2 and will be removed in 1.4. `sparse_output` is ignored unless you leave `sparse` to its default value.\n",
      "  warnings.warn(\n",
      "/home/tigran/anaconda3/lib/python3.9/site-packages/sklearn/preprocessing/_encoders.py:868: FutureWarning: `sparse` was renamed to `sparse_output` in version 1.2 and will be removed in 1.4. `sparse_output` is ignored unless you leave `sparse` to its default value.\n",
      "  warnings.warn(\n",
      "/home/tigran/anaconda3/lib/python3.9/site-packages/sklearn/preprocessing/_encoders.py:868: FutureWarning: `sparse` was renamed to `sparse_output` in version 1.2 and will be removed in 1.4. `sparse_output` is ignored unless you leave `sparse` to its default value.\n",
      "  warnings.warn(\n",
      "/home/tigran/anaconda3/lib/python3.9/site-packages/sklearn/preprocessing/_encoders.py:868: FutureWarning: `sparse` was renamed to `sparse_output` in version 1.2 and will be removed in 1.4. `sparse_output` is ignored unless you leave `sparse` to its default value.\n",
      "  warnings.warn(\n",
      "/home/tigran/anaconda3/lib/python3.9/site-packages/sklearn/preprocessing/_encoders.py:868: FutureWarning: `sparse` was renamed to `sparse_output` in version 1.2 and will be removed in 1.4. `sparse_output` is ignored unless you leave `sparse` to its default value.\n",
      "  warnings.warn(\n",
      "/home/tigran/anaconda3/lib/python3.9/site-packages/sklearn/preprocessing/_encoders.py:868: FutureWarning: `sparse` was renamed to `sparse_output` in version 1.2 and will be removed in 1.4. `sparse_output` is ignored unless you leave `sparse` to its default value.\n",
      "  warnings.warn(\n",
      "/home/tigran/anaconda3/lib/python3.9/site-packages/sklearn/preprocessing/_encoders.py:868: FutureWarning: `sparse` was renamed to `sparse_output` in version 1.2 and will be removed in 1.4. `sparse_output` is ignored unless you leave `sparse` to its default value.\n",
      "  warnings.warn(\n",
      "/home/tigran/anaconda3/lib/python3.9/site-packages/sklearn/preprocessing/_encoders.py:868: FutureWarning: `sparse` was renamed to `sparse_output` in version 1.2 and will be removed in 1.4. `sparse_output` is ignored unless you leave `sparse` to its default value.\n",
      "  warnings.warn(\n"
     ]
    }
   ],
   "source": [
    "res = gp_minimize(objective, space_skopt2, n_initial_points=5, n_calls=10, random_state=42)"
   ]
  },
  {
   "cell_type": "code",
   "execution_count": 29,
   "id": "d519b44c",
   "metadata": {},
   "outputs": [
    {
     "name": "stdout",
     "output_type": "stream",
     "text": [
      "9.305770887166236e-01\n"
     ]
    }
   ],
   "source": [
    "print(np.abs(res.fun))"
   ]
  },
  {
   "cell_type": "code",
   "execution_count": 30,
   "id": "4b1031c8",
   "metadata": {},
   "outputs": [
    {
     "data": {
      "text/html": [
       "<div>\n",
       "<style scoped>\n",
       "    .dataframe tbody tr th:only-of-type {\n",
       "        vertical-align: middle;\n",
       "    }\n",
       "\n",
       "    .dataframe tbody tr th {\n",
       "        vertical-align: top;\n",
       "    }\n",
       "\n",
       "    .dataframe thead th {\n",
       "        text-align: right;\n",
       "    }\n",
       "</style>\n",
       "<table border=\"1\" class=\"dataframe\">\n",
       "  <thead>\n",
       "    <tr style=\"text-align: right;\">\n",
       "      <th></th>\n",
       "      <th>boost__learning_rate</th>\n",
       "      <th>boost__max_depth</th>\n",
       "      <th>tr__num__imp__strategy</th>\n",
       "      <th>tr__cat__imp__strategy</th>\n",
       "    </tr>\n",
       "  </thead>\n",
       "  <tbody>\n",
       "    <tr>\n",
       "      <th>0</th>\n",
       "      <td>0.099916</td>\n",
       "      <td>8</td>\n",
       "      <td>mean</td>\n",
       "      <td>constant</td>\n",
       "    </tr>\n",
       "  </tbody>\n",
       "</table>\n",
       "</div>"
      ],
      "text/plain": [
       "   boost__learning_rate  boost__max_depth tr__num__imp__strategy  \\\n",
       "0              0.099916                 8                   mean   \n",
       "\n",
       "  tr__cat__imp__strategy  \n",
       "0               constant  "
      ]
     },
     "execution_count": 30,
     "metadata": {},
     "output_type": "execute_result"
    }
   ],
   "source": [
    "pd.DataFrame({'boost__learning_rate': pd.Series(res.x[0]),\n",
    "             'boost__max_depth': pd.Series(res.x[1]),\n",
    "             'tr__num__imp__strategy': pd.Series(res.x[2]),\n",
    "             'tr__cat__imp__strategy': pd.Series(res.x[3])})"
   ]
  },
  {
   "cell_type": "markdown",
   "id": "96b98153",
   "metadata": {},
   "source": [
    "# Optuna"
   ]
  },
  {
   "cell_type": "code",
   "execution_count": 31,
   "id": "2ebcad32",
   "metadata": {},
   "outputs": [],
   "source": [
    "import optuna\n",
    "from optuna.samplers import TPESampler\n",
    "from optuna.integration import OptunaSearchCV\n",
    "from optuna.distributions import IntUniformDistribution, CategoricalDistribution, UniformDistribution, FloatDistribution"
   ]
  },
  {
   "cell_type": "code",
   "execution_count": 20,
   "id": "6f866f00",
   "metadata": {},
   "outputs": [],
   "source": [
    "def objective(trial):\n",
    "    x = trial.suggest_uniform('x', -10, 10)\n",
    "    return (x-2)**2"
   ]
  },
  {
   "cell_type": "code",
   "execution_count": 36,
   "id": "ccdde731",
   "metadata": {},
   "outputs": [],
   "source": [
    "sampler = TPESampler(seed=10)"
   ]
  },
  {
   "cell_type": "code",
   "execution_count": 22,
   "id": "929ee96f",
   "metadata": {},
   "outputs": [],
   "source": [
    "study = optuna.create_study(sampler=sampler)"
   ]
  },
  {
   "cell_type": "code",
   "execution_count": 64,
   "id": "24589132",
   "metadata": {},
   "outputs": [
    {
     "name": "stderr",
     "output_type": "stream",
     "text": [
      "\u001b[32m[I 2023-05-14 17:40:13,741]\u001b[0m Trial 0 finished with value: 11.740305123732652 and parameters: {'x': 5.426412865334919}. Best is trial 0 with value: 11.740305123732652.\u001b[0m\n",
      "\u001b[32m[I 2023-05-14 17:40:13,743]\u001b[0m Trial 1 finished with value: 134.21132166837336 and parameters: {'x': -9.58496101281197}. Best is trial 0 with value: 11.740305123732652.\u001b[0m\n",
      "\u001b[32m[I 2023-05-14 17:40:13,743]\u001b[0m Trial 2 finished with value: 0.45288148546152784 and parameters: {'x': 2.672964698525508}. Best is trial 2 with value: 0.45288148546152784.\u001b[0m\n",
      "\u001b[32m[I 2023-05-14 17:40:13,744]\u001b[0m Trial 3 finished with value: 8.857038183425992 and parameters: {'x': 4.976077650772236}. Best is trial 2 with value: 0.45288148546152784.\u001b[0m\n",
      "\u001b[32m[I 2023-05-14 17:40:13,745]\u001b[0m Trial 4 finished with value: 4.120330620698611 and parameters: {'x': -0.02985975394819107}. Best is trial 2 with value: 0.45288148546152784.\u001b[0m\n",
      "\u001b[32m[I 2023-05-14 17:40:13,745]\u001b[0m Trial 5 finished with value: 56.311022881961755 and parameters: {'x': -5.504067089383047}. Best is trial 2 with value: 0.45288148546152784.\u001b[0m\n",
      "\u001b[32m[I 2023-05-14 17:40:13,746]\u001b[0m Trial 6 finished with value: 64.62138427409612 and parameters: {'x': -6.03874270480752}. Best is trial 2 with value: 0.45288148546152784.\u001b[0m\n",
      "\u001b[32m[I 2023-05-14 17:40:13,746]\u001b[0m Trial 7 finished with value: 10.308043823641965 and parameters: {'x': 5.210614243979174}. Best is trial 2 with value: 0.45288148546152784.\u001b[0m\n",
      "\u001b[32m[I 2023-05-14 17:40:13,747]\u001b[0m Trial 8 finished with value: 74.26618846713521 and parameters: {'x': -6.617783268749291}. Best is trial 2 with value: 0.45288148546152784.\u001b[0m\n",
      "\u001b[32m[I 2023-05-14 17:40:13,748]\u001b[0m Trial 9 finished with value: 104.71845830379453 and parameters: {'x': -8.233203716519794}. Best is trial 2 with value: 0.45288148546152784.\u001b[0m\n",
      "\u001b[32m[I 2023-05-14 17:40:13,751]\u001b[0m Trial 10 finished with value: 35.982279962528374 and parameters: {'x': 7.998523148453157}. Best is trial 2 with value: 0.45288148546152784.\u001b[0m\n",
      "\u001b[32m[I 2023-05-14 17:40:13,754]\u001b[0m Trial 11 finished with value: 4.3474423461128895 and parameters: {'x': -0.0850521207185419}. Best is trial 2 with value: 0.45288148546152784.\u001b[0m\n",
      "\u001b[32m[I 2023-05-14 17:40:13,757]\u001b[0m Trial 12 finished with value: 5.70052385671459 and parameters: {'x': -0.38757698445821664}. Best is trial 2 with value: 0.45288148546152784.\u001b[0m\n",
      "\u001b[32m[I 2023-05-14 17:40:13,760]\u001b[0m Trial 13 finished with value: 0.05013374156666872 and parameters: {'x': 1.7760943467290995}. Best is trial 13 with value: 0.05013374156666872.\u001b[0m\n",
      "\u001b[32m[I 2023-05-14 17:40:13,763]\u001b[0m Trial 14 finished with value: 0.8918928389572898 and parameters: {'x': 2.944400783013912}. Best is trial 13 with value: 0.05013374156666872.\u001b[0m\n",
      "\u001b[32m[I 2023-05-14 17:40:13,765]\u001b[0m Trial 15 finished with value: 22.12927055915061 and parameters: {'x': -2.7041758639692253}. Best is trial 13 with value: 0.05013374156666872.\u001b[0m\n",
      "\u001b[32m[I 2023-05-14 17:40:13,768]\u001b[0m Trial 16 finished with value: 60.70087931631421 and parameters: {'x': 9.791076903504047}. Best is trial 13 with value: 0.05013374156666872.\u001b[0m\n",
      "\u001b[32m[I 2023-05-14 17:40:13,772]\u001b[0m Trial 17 finished with value: 0.038665109038387005 and parameters: {'x': 2.1966344553693147}. Best is trial 17 with value: 0.038665109038387005.\u001b[0m\n",
      "\u001b[32m[I 2023-05-14 17:40:13,775]\u001b[0m Trial 18 finished with value: 20.933086486307786 and parameters: {'x': -2.5752690069883095}. Best is trial 17 with value: 0.038665109038387005.\u001b[0m\n",
      "\u001b[32m[I 2023-05-14 17:40:13,778]\u001b[0m Trial 19 finished with value: 0.5008747486246895 and parameters: {'x': 1.2922749484265168}. Best is trial 17 with value: 0.038665109038387005.\u001b[0m\n",
      "\u001b[32m[I 2023-05-14 17:40:13,780]\u001b[0m Trial 20 finished with value: 0.828785360860142 and parameters: {'x': 2.9103764940178003}. Best is trial 17 with value: 0.038665109038387005.\u001b[0m\n",
      "\u001b[32m[I 2023-05-14 17:40:13,783]\u001b[0m Trial 21 finished with value: 0.07357467598853257 and parameters: {'x': 2.2712465225372163}. Best is trial 17 with value: 0.038665109038387005.\u001b[0m\n",
      "\u001b[32m[I 2023-05-14 17:40:13,786]\u001b[0m Trial 22 finished with value: 15.349429613474985 and parameters: {'x': -1.9178348119178001}. Best is trial 17 with value: 0.038665109038387005.\u001b[0m\n",
      "\u001b[32m[I 2023-05-14 17:40:13,790]\u001b[0m Trial 23 finished with value: 0.3933047418629795 and parameters: {'x': 1.3728598706325839}. Best is trial 17 with value: 0.038665109038387005.\u001b[0m\n",
      "\u001b[32m[I 2023-05-14 17:40:13,793]\u001b[0m Trial 24 finished with value: 3.783825011604076 and parameters: {'x': 3.9452056476383355}. Best is trial 17 with value: 0.038665109038387005.\u001b[0m\n",
      "\u001b[32m[I 2023-05-14 17:40:13,795]\u001b[0m Trial 25 finished with value: 0.2433346545359706 and parameters: {'x': 1.5067103745911834}. Best is trial 17 with value: 0.038665109038387005.\u001b[0m\n",
      "\u001b[32m[I 2023-05-14 17:40:13,798]\u001b[0m Trial 26 finished with value: 27.51116583914139 and parameters: {'x': 7.245108753795424}. Best is trial 17 with value: 0.038665109038387005.\u001b[0m\n",
      "\u001b[32m[I 2023-05-14 17:40:13,801]\u001b[0m Trial 27 finished with value: 3.30243536516429 and parameters: {'x': 3.8172604010334594}. Best is trial 17 with value: 0.038665109038387005.\u001b[0m\n",
      "\u001b[32m[I 2023-05-14 17:40:13,803]\u001b[0m Trial 28 finished with value: 11.643545938294896 and parameters: {'x': -1.4122640487358091}. Best is trial 17 with value: 0.038665109038387005.\u001b[0m\n",
      "\u001b[32m[I 2023-05-14 17:40:13,806]\u001b[0m Trial 29 finished with value: 17.33297566714563 and parameters: {'x': 6.1632890443909405}. Best is trial 17 with value: 0.038665109038387005.\u001b[0m\n",
      "\u001b[32m[I 2023-05-14 17:40:13,808]\u001b[0m Trial 30 finished with value: 0.1030290079033398 and parameters: {'x': 1.6790186798218005}. Best is trial 17 with value: 0.038665109038387005.\u001b[0m\n",
      "\u001b[32m[I 2023-05-14 17:40:13,811]\u001b[0m Trial 31 finished with value: 0.1728994744343478 and parameters: {'x': 1.5841881742490387}. Best is trial 17 with value: 0.038665109038387005.\u001b[0m\n",
      "\u001b[32m[I 2023-05-14 17:40:13,814]\u001b[0m Trial 32 finished with value: 3.3335773258933044 and parameters: {'x': 3.8258086772423074}. Best is trial 17 with value: 0.038665109038387005.\u001b[0m\n",
      "\u001b[32m[I 2023-05-14 17:40:13,816]\u001b[0m Trial 33 finished with value: 0.0489544184752087 and parameters: {'x': 2.2212564540871265}. Best is trial 17 with value: 0.038665109038387005.\u001b[0m\n",
      "\u001b[32m[I 2023-05-14 17:40:13,820]\u001b[0m Trial 34 finished with value: 0.40640621662491294 and parameters: {'x': 2.6374999738234606}. Best is trial 17 with value: 0.038665109038387005.\u001b[0m\n",
      "\u001b[32m[I 2023-05-14 17:40:13,825]\u001b[0m Trial 35 finished with value: 7.097544504651536 and parameters: {'x': 4.66412171355806}. Best is trial 17 with value: 0.038665109038387005.\u001b[0m\n",
      "\u001b[32m[I 2023-05-14 17:40:13,829]\u001b[0m Trial 36 finished with value: 2.6482230035294334 and parameters: {'x': 0.37266383204654574}. Best is trial 17 with value: 0.038665109038387005.\u001b[0m\n",
      "\u001b[32m[I 2023-05-14 17:40:13,833]\u001b[0m Trial 37 finished with value: 0.48984995574227647 and parameters: {'x': 2.6998928173243932}. Best is trial 17 with value: 0.038665109038387005.\u001b[0m\n",
      "\u001b[32m[I 2023-05-14 17:40:13,838]\u001b[0m Trial 38 finished with value: 14.824937170410532 and parameters: {'x': 5.850316502628132}. Best is trial 17 with value: 0.038665109038387005.\u001b[0m\n",
      "\u001b[32m[I 2023-05-14 17:40:13,842]\u001b[0m Trial 39 finished with value: 7.397154917074339 and parameters: {'x': 4.71977111483197}. Best is trial 17 with value: 0.038665109038387005.\u001b[0m\n",
      "\u001b[32m[I 2023-05-14 17:40:13,852]\u001b[0m Trial 40 finished with value: 2.049833573870585 and parameters: {'x': 0.5682760133773741}. Best is trial 17 with value: 0.038665109038387005.\u001b[0m\n",
      "\u001b[32m[I 2023-05-14 17:40:13,856]\u001b[0m Trial 41 finished with value: 0.03732512911138656 and parameters: {'x': 1.806802874991923}. Best is trial 41 with value: 0.03732512911138656.\u001b[0m\n",
      "\u001b[32m[I 2023-05-14 17:40:13,859]\u001b[0m Trial 42 finished with value: 0.12325427593361586 and parameters: {'x': 2.351075883440626}. Best is trial 41 with value: 0.03732512911138656.\u001b[0m\n",
      "\u001b[32m[I 2023-05-14 17:40:13,863]\u001b[0m Trial 43 finished with value: 8.164370348243034 and parameters: {'x': -0.8573362329699727}. Best is trial 41 with value: 0.03732512911138656.\u001b[0m\n",
      "\u001b[32m[I 2023-05-14 17:40:13,868]\u001b[0m Trial 44 finished with value: 3.397475501792385 and parameters: {'x': 0.15677578634817602}. Best is trial 41 with value: 0.03732512911138656.\u001b[0m\n"
     ]
    },
    {
     "name": "stderr",
     "output_type": "stream",
     "text": [
      "\u001b[32m[I 2023-05-14 17:40:13,873]\u001b[0m Trial 45 finished with value: 3.144344161954048 and parameters: {'x': 3.7732298672067444}. Best is trial 41 with value: 0.03732512911138656.\u001b[0m\n",
      "\u001b[32m[I 2023-05-14 17:40:13,878]\u001b[0m Trial 46 finished with value: 1.5911977066776877 and parameters: {'x': 0.7385731465210963}. Best is trial 41 with value: 0.03732512911138656.\u001b[0m\n",
      "\u001b[32m[I 2023-05-14 17:40:13,882]\u001b[0m Trial 47 finished with value: 0.11945767886741451 and parameters: {'x': 2.345626501974913}. Best is trial 41 with value: 0.03732512911138656.\u001b[0m\n",
      "\u001b[32m[I 2023-05-14 17:40:13,885]\u001b[0m Trial 48 finished with value: 5.3176862671402265 and parameters: {'x': -0.30601089918071}. Best is trial 41 with value: 0.03732512911138656.\u001b[0m\n",
      "\u001b[32m[I 2023-05-14 17:40:13,888]\u001b[0m Trial 49 finished with value: 1.7864426669984759 and parameters: {'x': 3.3365787170976784}. Best is trial 41 with value: 0.03732512911138656.\u001b[0m\n",
      "\u001b[32m[I 2023-05-14 17:40:13,891]\u001b[0m Trial 50 finished with value: 0.04627537358283107 and parameters: {'x': 2.2151171159690253}. Best is trial 41 with value: 0.03732512911138656.\u001b[0m\n",
      "\u001b[32m[I 2023-05-14 17:40:13,893]\u001b[0m Trial 51 finished with value: 0.039700201887147187 and parameters: {'x': 2.199249095072342}. Best is trial 41 with value: 0.03732512911138656.\u001b[0m\n",
      "\u001b[32m[I 2023-05-14 17:40:13,896]\u001b[0m Trial 52 finished with value: 0.952031743896915 and parameters: {'x': 1.024278859562367}. Best is trial 41 with value: 0.03732512911138656.\u001b[0m\n",
      "\u001b[32m[I 2023-05-14 17:40:13,898]\u001b[0m Trial 53 finished with value: 1.2971193919669721 and parameters: {'x': 0.8610885056480586}. Best is trial 41 with value: 0.03732512911138656.\u001b[0m\n",
      "\u001b[32m[I 2023-05-14 17:40:13,901]\u001b[0m Trial 54 finished with value: 0.005095143852685033 and parameters: {'x': 1.9286197236438172}. Best is trial 54 with value: 0.005095143852685033.\u001b[0m\n",
      "\u001b[32m[I 2023-05-14 17:40:13,903]\u001b[0m Trial 55 finished with value: 0.08514872442217203 and parameters: {'x': 2.291802543549867}. Best is trial 54 with value: 0.005095143852685033.\u001b[0m\n",
      "\u001b[32m[I 2023-05-14 17:40:13,906]\u001b[0m Trial 56 finished with value: 1.5846396620912213 and parameters: {'x': 3.2588247146013702}. Best is trial 54 with value: 0.005095143852685033.\u001b[0m\n",
      "\u001b[32m[I 2023-05-14 17:40:13,908]\u001b[0m Trial 57 finished with value: 5.926041692915618 and parameters: {'x': 4.434346255756485}. Best is trial 54 with value: 0.005095143852685033.\u001b[0m\n",
      "\u001b[32m[I 2023-05-14 17:40:13,911]\u001b[0m Trial 58 finished with value: 0.036637321394958004 and parameters: {'x': 1.8085912191278624}. Best is trial 54 with value: 0.005095143852685033.\u001b[0m\n",
      "\u001b[32m[I 2023-05-14 17:40:13,914]\u001b[0m Trial 59 finished with value: 7.28108321883376 and parameters: {'x': -0.6983482389850573}. Best is trial 54 with value: 0.005095143852685033.\u001b[0m\n",
      "\u001b[32m[I 2023-05-14 17:40:13,918]\u001b[0m Trial 60 finished with value: 1.527984529383197 and parameters: {'x': 3.2361167134956137}. Best is trial 54 with value: 0.005095143852685033.\u001b[0m\n",
      "\u001b[32m[I 2023-05-14 17:40:13,921]\u001b[0m Trial 61 finished with value: 0.029047755562388183 and parameters: {'x': 1.8295659788587144}. Best is trial 54 with value: 0.005095143852685033.\u001b[0m\n",
      "\u001b[32m[I 2023-05-14 17:40:13,924]\u001b[0m Trial 62 finished with value: 0.015451037105530366 and parameters: {'x': 1.8756977992731811}. Best is trial 54 with value: 0.005095143852685033.\u001b[0m\n",
      "\u001b[32m[I 2023-05-14 17:40:13,927]\u001b[0m Trial 63 finished with value: 0.5738177392691988 and parameters: {'x': 1.2424924163619226}. Best is trial 54 with value: 0.005095143852685033.\u001b[0m\n",
      "\u001b[32m[I 2023-05-14 17:40:13,931]\u001b[0m Trial 64 finished with value: 0.0778014421767341 and parameters: {'x': 1.7210709011653067}. Best is trial 54 with value: 0.005095143852685033.\u001b[0m\n",
      "\u001b[32m[I 2023-05-14 17:40:13,933]\u001b[0m Trial 65 finished with value: 3.3304649662593775 and parameters: {'x': 0.17504384538713436}. Best is trial 54 with value: 0.005095143852685033.\u001b[0m\n",
      "\u001b[32m[I 2023-05-14 17:40:13,936]\u001b[0m Trial 66 finished with value: 1.0893731956495287 and parameters: {'x': 0.9562695771179569}. Best is trial 54 with value: 0.005095143852685033.\u001b[0m\n",
      "\u001b[32m[I 2023-05-14 17:40:13,939]\u001b[0m Trial 67 finished with value: 1.4837420247026436 and parameters: {'x': 3.2180894978213397}. Best is trial 54 with value: 0.005095143852685033.\u001b[0m\n",
      "\u001b[32m[I 2023-05-14 17:40:13,941]\u001b[0m Trial 68 finished with value: 0.032373538213919924 and parameters: {'x': 1.8200735199757414}. Best is trial 54 with value: 0.005095143852685033.\u001b[0m\n",
      "\u001b[32m[I 2023-05-14 17:40:13,944]\u001b[0m Trial 69 finished with value: 0.07177718866164523 and parameters: {'x': 1.7320873488212152}. Best is trial 54 with value: 0.005095143852685033.\u001b[0m\n",
      "\u001b[32m[I 2023-05-14 17:40:13,947]\u001b[0m Trial 70 finished with value: 5.3208692295987 and parameters: {'x': -0.3067009406506729}. Best is trial 54 with value: 0.005095143852685033.\u001b[0m\n",
      "\u001b[32m[I 2023-05-14 17:40:13,949]\u001b[0m Trial 71 finished with value: 0.7380773634690826 and parameters: {'x': 2.8591142901087623}. Best is trial 54 with value: 0.005095143852685033.\u001b[0m\n",
      "\u001b[32m[I 2023-05-14 17:40:13,952]\u001b[0m Trial 72 finished with value: 3.0803586568735782e-06 and parameters: {'x': 1.998244904943636}. Best is trial 72 with value: 3.0803586568735782e-06.\u001b[0m\n",
      "\u001b[32m[I 2023-05-14 17:40:13,955]\u001b[0m Trial 73 finished with value: 0.5071602086176616 and parameters: {'x': 1.2878481842909746}. Best is trial 72 with value: 3.0803586568735782e-06.\u001b[0m\n",
      "\u001b[32m[I 2023-05-14 17:40:13,958]\u001b[0m Trial 74 finished with value: 2.0382097965819796 and parameters: {'x': 0.5723411483894412}. Best is trial 72 with value: 3.0803586568735782e-06.\u001b[0m\n",
      "\u001b[32m[I 2023-05-14 17:40:13,961]\u001b[0m Trial 75 finished with value: 3.80699794319775 and parameters: {'x': 3.951152977907614}. Best is trial 72 with value: 3.0803586568735782e-06.\u001b[0m\n",
      "\u001b[32m[I 2023-05-14 17:40:13,963]\u001b[0m Trial 76 finished with value: 0.043810641010654565 and parameters: {'x': 1.7906900838214908}. Best is trial 72 with value: 3.0803586568735782e-06.\u001b[0m\n",
      "\u001b[32m[I 2023-05-14 17:40:13,966]\u001b[0m Trial 77 finished with value: 0.5140836860061035 and parameters: {'x': 2.7169962942764094}. Best is trial 72 with value: 3.0803586568735782e-06.\u001b[0m\n",
      "\u001b[32m[I 2023-05-14 17:40:13,969]\u001b[0m Trial 78 finished with value: 2.821299586920358 and parameters: {'x': 0.32032753582123696}. Best is trial 72 with value: 3.0803586568735782e-06.\u001b[0m\n",
      "\u001b[32m[I 2023-05-14 17:40:13,972]\u001b[0m Trial 79 finished with value: 0.6387411003313608 and parameters: {'x': 1.2007871995949009}. Best is trial 72 with value: 3.0803586568735782e-06.\u001b[0m\n",
      "\u001b[32m[I 2023-05-14 17:40:13,976]\u001b[0m Trial 80 finished with value: 0.023945592186352567 and parameters: {'x': 1.8452563662493588}. Best is trial 72 with value: 3.0803586568735782e-06.\u001b[0m\n",
      "\u001b[32m[I 2023-05-14 17:40:13,979]\u001b[0m Trial 81 finished with value: 0.044204743702862266 and parameters: {'x': 1.7897507581396255}. Best is trial 72 with value: 3.0803586568735782e-06.\u001b[0m\n",
      "\u001b[32m[I 2023-05-14 17:40:13,982]\u001b[0m Trial 82 finished with value: 0.0025703844700027414 and parameters: {'x': 1.9493010407404379}. Best is trial 72 with value: 3.0803586568735782e-06.\u001b[0m\n",
      "\u001b[32m[I 2023-05-14 17:40:13,985]\u001b[0m Trial 83 finished with value: 1.579274151219922 and parameters: {'x': 0.7433082513122313}. Best is trial 72 with value: 3.0803586568735782e-06.\u001b[0m\n",
      "\u001b[32m[I 2023-05-14 17:40:13,987]\u001b[0m Trial 84 finished with value: 0.4079430015653109 and parameters: {'x': 2.638704158093018}. Best is trial 72 with value: 3.0803586568735782e-06.\u001b[0m\n",
      "\u001b[32m[I 2023-05-14 17:40:13,990]\u001b[0m Trial 85 finished with value: 0.010403968289290568 and parameters: {'x': 1.8980001554447725}. Best is trial 72 with value: 3.0803586568735782e-06.\u001b[0m\n",
      "\u001b[32m[I 2023-05-14 17:40:13,993]\u001b[0m Trial 86 finished with value: 4.436920290526391 and parameters: {'x': -0.10639984108582534}. Best is trial 72 with value: 3.0803586568735782e-06.\u001b[0m\n",
      "\u001b[32m[I 2023-05-14 17:40:13,995]\u001b[0m Trial 87 finished with value: 0.9161209486809522 and parameters: {'x': 2.957142073404441}. Best is trial 72 with value: 3.0803586568735782e-06.\u001b[0m\n",
      "\u001b[32m[I 2023-05-14 17:40:13,998]\u001b[0m Trial 88 finished with value: 0.4735547143573335 and parameters: {'x': 1.3118468816045854}. Best is trial 72 with value: 3.0803586568735782e-06.\u001b[0m\n",
      "\u001b[32m[I 2023-05-14 17:40:14,002]\u001b[0m Trial 89 finished with value: 0.03037740738741338 and parameters: {'x': 2.1742911569397982}. Best is trial 72 with value: 3.0803586568735782e-06.\u001b[0m\n"
     ]
    },
    {
     "name": "stderr",
     "output_type": "stream",
     "text": [
      "\u001b[32m[I 2023-05-14 17:40:14,006]\u001b[0m Trial 90 finished with value: 2.3190616643509827 and parameters: {'x': 0.4771534337462022}. Best is trial 72 with value: 3.0803586568735782e-06.\u001b[0m\n",
      "\u001b[32m[I 2023-05-14 17:40:14,009]\u001b[0m Trial 91 finished with value: 0.0006583480349128822 and parameters: {'x': 1.9743417063133013}. Best is trial 72 with value: 3.0803586568735782e-06.\u001b[0m\n",
      "\u001b[32m[I 2023-05-14 17:40:14,013]\u001b[0m Trial 92 finished with value: 0.041922544876724255 and parameters: {'x': 2.204749956963913}. Best is trial 72 with value: 3.0803586568735782e-06.\u001b[0m\n",
      "\u001b[32m[I 2023-05-14 17:40:14,017]\u001b[0m Trial 93 finished with value: 0.4178128608667105 and parameters: {'x': 2.646384452834929}. Best is trial 72 with value: 3.0803586568735782e-06.\u001b[0m\n",
      "\u001b[32m[I 2023-05-14 17:40:14,020]\u001b[0m Trial 94 finished with value: 2.303623726082213 and parameters: {'x': 3.517769325715279}. Best is trial 72 with value: 3.0803586568735782e-06.\u001b[0m\n",
      "\u001b[32m[I 2023-05-14 17:40:14,023]\u001b[0m Trial 95 finished with value: 4.83152446255749 and parameters: {'x': 4.198072897462113}. Best is trial 72 with value: 3.0803586568735782e-06.\u001b[0m\n",
      "\u001b[32m[I 2023-05-14 17:40:14,026]\u001b[0m Trial 96 finished with value: 2.0216813643586313 and parameters: {'x': 3.4218584192382275}. Best is trial 72 with value: 3.0803586568735782e-06.\u001b[0m\n",
      "\u001b[32m[I 2023-05-14 17:40:14,029]\u001b[0m Trial 97 finished with value: 1.3029258643043522 and parameters: {'x': 0.8585422196575327}. Best is trial 72 with value: 3.0803586568735782e-06.\u001b[0m\n",
      "\u001b[32m[I 2023-05-14 17:40:14,032]\u001b[0m Trial 98 finished with value: 0.9652765453985206 and parameters: {'x': 2.982484883038167}. Best is trial 72 with value: 3.0803586568735782e-06.\u001b[0m\n",
      "\u001b[32m[I 2023-05-14 17:40:14,034]\u001b[0m Trial 99 finished with value: 0.33164115011573675 and parameters: {'x': 1.424117069088051}. Best is trial 72 with value: 3.0803586568735782e-06.\u001b[0m\n"
     ]
    }
   ],
   "source": [
    "study.optimize(objective, n_trials=100)"
   ]
  },
  {
   "cell_type": "code",
   "execution_count": 65,
   "id": "6c839825",
   "metadata": {},
   "outputs": [
    {
     "name": "stdout",
     "output_type": "stream",
     "text": [
      "{'x': 1.998244904943636}\n"
     ]
    }
   ],
   "source": [
    "print(study.best_params)"
   ]
  },
  {
   "cell_type": "code",
   "execution_count": 66,
   "id": "73f5456e",
   "metadata": {},
   "outputs": [
    {
     "name": "stdout",
     "output_type": "stream",
     "text": [
      "3.0803586568735782e-06\n"
     ]
    }
   ],
   "source": [
    "print(study.best_value)"
   ]
  },
  {
   "cell_type": "code",
   "execution_count": 67,
   "id": "abc1ce06",
   "metadata": {},
   "outputs": [
    {
     "name": "stdout",
     "output_type": "stream",
     "text": [
      "FrozenTrial(number=72, state=TrialState.COMPLETE, values=[3.0803586568735782e-06], datetime_start=datetime.datetime(2023, 5, 14, 17, 40, 13, 950089), datetime_complete=datetime.datetime(2023, 5, 14, 17, 40, 13, 952396), params={'x': 1.998244904943636}, user_attrs={}, system_attrs={}, intermediate_values={}, distributions={'x': FloatDistribution(high=10.0, log=False, low=-10.0, step=None)}, trial_id=72, value=None)\n"
     ]
    }
   ],
   "source": [
    "print(study.best_trial)"
   ]
  },
  {
   "cell_type": "code",
   "execution_count": 47,
   "id": "6c0e2eb2",
   "metadata": {},
   "outputs": [],
   "source": [
    "kfold = KFold(n_splits=5, shuffle=True, random_state=42)"
   ]
  },
  {
   "cell_type": "code",
   "execution_count": 55,
   "id": "4fdbe4c6",
   "metadata": {},
   "outputs": [],
   "source": [
    "def objective(trial):\n",
    "    params = {\n",
    "        'boost__learning_rate': trial.suggest_uniform('boost__learning_rate', 0.001, 0.1),\n",
    "        'boost__max_depth': trial.suggest_int('boost__max_depth', 2, 8),\n",
    "        'tr__num__imp__strategy': trial.suggest_categorical('tr__num__imp__strategy', ['mean', 'median', 'constant']),\n",
    "        'tr__cat__imp__strategy': trial.suggest_categorical('tr__cat__imp__strategy', ['most_frequent', 'constant'])\n",
    "    }\n",
    "    pipe.set_params(**params)\n",
    "    return np.mean(cross_val_score(pipe, X_train, y_train, cv=kfold))"
   ]
  },
  {
   "cell_type": "code",
   "execution_count": 49,
   "id": "c18188d2",
   "metadata": {},
   "outputs": [
    {
     "name": "stderr",
     "output_type": "stream",
     "text": [
      "\u001b[32m[I 2023-05-14 18:49:53,272]\u001b[0m A new study created in memory with name: no-name-ff970425-0c59-42a3-85cf-39bdf36886c8\u001b[0m\n"
     ]
    }
   ],
   "source": [
    "study = optuna.create_study(sampler=sampler, direction='maximize')\n",
    "optuna.logging.disable_default_handler()\n",
    "study.optimize(objective, n_trials=10)"
   ]
  },
  {
   "cell_type": "code",
   "execution_count": 50,
   "id": "c3037ec8",
   "metadata": {},
   "outputs": [],
   "source": [
    "best = study.best_trial"
   ]
  },
  {
   "cell_type": "code",
   "execution_count": 51,
   "id": "ad9a844d",
   "metadata": {},
   "outputs": [
    {
     "name": "stdout",
     "output_type": "stream",
     "text": [
      "0.9286821705426357\n"
     ]
    }
   ],
   "source": [
    "print(best.value)"
   ]
  },
  {
   "cell_type": "code",
   "execution_count": 52,
   "id": "5040b69e",
   "metadata": {},
   "outputs": [
    {
     "name": "stdout",
     "output_type": "stream",
     "text": [
      "boost__learning_rate: 0.07656081812722443\n",
      "boost__max_depth: 8\n",
      "tr__num__imp__strategy: median\n",
      "tr__cat__imp__strategy: most_frequent\n"
     ]
    }
   ],
   "source": [
    "for key, value in best.params.items():\n",
    "    print('{}: {}'.format(key, value))"
   ]
  },
  {
   "cell_type": "code",
   "execution_count": 56,
   "id": "65fc71e8",
   "metadata": {},
   "outputs": [
    {
     "data": {
      "text/plain": [
       "0.932475884244373"
      ]
     },
     "execution_count": 56,
     "metadata": {},
     "output_type": "execute_result"
    }
   ],
   "source": [
    "accuracy_test(X_train, y_train, X_test, y_test, best.params, space=None, optimize='optuna')"
   ]
  },
  {
   "cell_type": "code",
   "execution_count": 32,
   "id": "e12abf51",
   "metadata": {},
   "outputs": [],
   "source": [
    "from lightgbm import LGBMClassifier"
   ]
  },
  {
   "cell_type": "code",
   "execution_count": 33,
   "id": "6db09a7c",
   "metadata": {},
   "outputs": [],
   "source": [
    "lgbm_pipe = Pipeline([\n",
    "    ('tr', transformer),\n",
    "    ('lgboost', LGBMClassifier(random_state=42, n_estimators=200))\n",
    "])"
   ]
  },
  {
   "cell_type": "code",
   "execution_count": 34,
   "id": "00cae6a6",
   "metadata": {},
   "outputs": [],
   "source": [
    "def lgbm_objective(trial):\n",
    "    params = {\n",
    "        'lgboost__learning_rate': trial.suggest_uniform('lgboost__learning_rate', 0.001, 0.1),\n",
    "        'lgboost__max_depth': trial.suggest_int('lgboost__max_depth', 2, 8),\n",
    "        'tr__num__imp__strategy': trial.suggest_categorical('tr__num__imp__strategy', ['mean', 'median', 'constant']),\n",
    "        'tr__cat__imp__strategy': trial.suggest_categorical('tr__cat__imp__strategy', ['most_frequent', 'constant'])\n",
    "    }\n",
    "    lgbm_pipe.set_params(**params)\n",
    "    return np.mean(cross_val_score(lgbm_pipe, X_train, y_train, cv=5))"
   ]
  },
  {
   "cell_type": "code",
   "execution_count": 37,
   "id": "8896f634",
   "metadata": {},
   "outputs": [
    {
     "name": "stderr",
     "output_type": "stream",
     "text": [
      "\u001b[32m[I 2023-05-14 18:42:15,201]\u001b[0m A new study created in memory with name: no-name-e2258e0a-fdb6-446f-8722-5a6bc8f64146\u001b[0m\n"
     ]
    }
   ],
   "source": [
    "study = optuna.create_study(sampler=sampler, direction='maximize')"
   ]
  },
  {
   "cell_type": "code",
   "execution_count": 38,
   "id": "f4c38caa",
   "metadata": {},
   "outputs": [
    {
     "name": "stderr",
     "output_type": "stream",
     "text": [
      "\u001b[32m[I 2023-05-14 18:42:47,469]\u001b[0m Trial 0 finished with value: 0.9000861326442722 and parameters: {'lgboost__learning_rate': 0.07736074368340785, 'lgboost__max_depth': 2, 'tr__num__imp__strategy': 'median', 'tr__cat__imp__strategy': 'most_frequent'}. Best is trial 0 with value: 0.9000861326442722.\u001b[0m\n",
      "\u001b[32m[I 2023-05-14 18:42:47,725]\u001b[0m Trial 1 finished with value: 0.9035314384151594 and parameters: {'lgboost__learning_rate': 0.07629254050769692, 'lgboost__max_depth': 3, 'tr__num__imp__strategy': 'constant', 'tr__cat__imp__strategy': 'constant'}. Best is trial 1 with value: 0.9035314384151594.\u001b[0m\n",
      "\u001b[32m[I 2023-05-14 18:42:48,178]\u001b[0m Trial 2 finished with value: 0.9250645994832041 and parameters: {'lgboost__learning_rate': 0.08144947520355925, 'lgboost__max_depth': 6, 'tr__num__imp__strategy': 'constant', 'tr__cat__imp__strategy': 'most_frequent'}. Best is trial 2 with value: 0.9250645994832041.\u001b[0m\n",
      "\u001b[32m[I 2023-05-14 18:42:48,493]\u001b[0m Trial 3 finished with value: 0.9007751937984496 and parameters: {'lgboost__learning_rate': 0.01507483471255117, 'lgboost__max_depth': 4, 'tr__num__imp__strategy': 'mean', 'tr__cat__imp__strategy': 'most_frequent'}. Best is trial 2 with value: 0.9250645994832041.\u001b[0m\n",
      "\u001b[32m[I 2023-05-14 18:42:49,034]\u001b[0m Trial 4 finished with value: 0.9190353143841514 and parameters: {'lgboost__learning_rate': 0.06538932101121527, 'lgboost__max_depth': 6, 'tr__num__imp__strategy': 'constant', 'tr__cat__imp__strategy': 'most_frequent'}. Best is trial 2 with value: 0.9250645994832041.\u001b[0m\n",
      "\u001b[32m[I 2023-05-14 18:42:49,290]\u001b[0m Trial 5 finished with value: 0.899569336778639 and parameters: {'lgboost__learning_rate': 0.030769305606984133, 'lgboost__max_depth': 2, 'tr__num__imp__strategy': 'mean', 'tr__cat__imp__strategy': 'constant'}. Best is trial 2 with value: 0.9250645994832041.\u001b[0m\n",
      "\u001b[32m[I 2023-05-14 18:42:49,779]\u001b[0m Trial 6 finished with value: 0.9055986218776916 and parameters: {'lgboost__learning_rate': 0.02069580642820242, 'lgboost__max_depth': 7, 'tr__num__imp__strategy': 'median', 'tr__cat__imp__strategy': 'most_frequent'}. Best is trial 2 with value: 0.9250645994832041.\u001b[0m\n",
      "\u001b[32m[I 2023-05-14 18:42:50,120]\u001b[0m Trial 7 finished with value: 0.9012919896640825 and parameters: {'lgboost__learning_rate': 0.017336573874195703, 'lgboost__max_depth': 4, 'tr__num__imp__strategy': 'median', 'tr__cat__imp__strategy': 'constant'}. Best is trial 2 with value: 0.9250645994832041.\u001b[0m\n",
      "\u001b[32m[I 2023-05-14 18:42:50,629]\u001b[0m Trial 8 finished with value: 0.9195521102497846 and parameters: {'lgboost__learning_rate': 0.09877492201528536, 'lgboost__max_depth': 5, 'tr__num__imp__strategy': 'mean', 'tr__cat__imp__strategy': 'most_frequent'}. Best is trial 2 with value: 0.9250645994832041.\u001b[0m\n",
      "\u001b[32m[I 2023-05-14 18:42:50,860]\u001b[0m Trial 9 finished with value: 0.8987080103359173 and parameters: {'lgboost__learning_rate': 0.05942993493555687, 'lgboost__max_depth': 2, 'tr__num__imp__strategy': 'mean', 'tr__cat__imp__strategy': 'constant'}. Best is trial 2 with value: 0.9250645994832041.\u001b[0m\n"
     ]
    }
   ],
   "source": [
    "study.optimize(lgbm_objective, n_trials=10)"
   ]
  },
  {
   "cell_type": "code",
   "execution_count": 39,
   "id": "b08a557f",
   "metadata": {},
   "outputs": [
    {
     "name": "stdout",
     "output_type": "stream",
     "text": [
      "0.9250645994832041\n"
     ]
    }
   ],
   "source": [
    "print(study.best_value)"
   ]
  },
  {
   "cell_type": "code",
   "execution_count": 40,
   "id": "a1630da8",
   "metadata": {},
   "outputs": [
    {
     "data": {
      "text/plain": [
       "{'lgboost__learning_rate': 0.08144947520355925,\n",
       " 'lgboost__max_depth': 6,\n",
       " 'tr__num__imp__strategy': 'constant',\n",
       " 'tr__cat__imp__strategy': 'most_frequent'}"
      ]
     },
     "execution_count": 40,
     "metadata": {},
     "output_type": "execute_result"
    }
   ],
   "source": [
    "study.best_params"
   ]
  },
  {
   "cell_type": "code",
   "execution_count": 41,
   "id": "48b69865",
   "metadata": {},
   "outputs": [],
   "source": [
    "import optuna.integration.lightgbm as lgb\n",
    "from lightgbm import early_stopping"
   ]
  },
  {
   "cell_type": "code",
   "execution_count": 42,
   "id": "ee35fdde",
   "metadata": {},
   "outputs": [],
   "source": [
    "features = X_train.copy()\n",
    "cols = list(features.columns[features.dtypes == 'object'])\n",
    "for c in cols:\n",
    "    features[c] = features[c].astype('category').cat.codes\n",
    "labels = np.where(y_train == 'Yes', 1, 0)\n",
    "dtrain = lgb.Dataset(data=features, label=labels)"
   ]
  },
  {
   "cell_type": "code",
   "execution_count": 43,
   "id": "156ff315",
   "metadata": {},
   "outputs": [],
   "source": [
    "params = {\n",
    "    'objective': 'binary',\n",
    "    'metric': 'auc',\n",
    "    'verbosity': -1,\n",
    "    'boosting_type': 'gbdt'\n",
    "}"
   ]
  },
  {
   "cell_type": "code",
   "execution_count": 44,
   "id": "46805ee5",
   "metadata": {},
   "outputs": [
    {
     "name": "stderr",
     "output_type": "stream",
     "text": [
      "\u001b[32m[I 2023-05-14 18:47:48,824]\u001b[0m A new study created in memory with name: no-name-443ce345-00a2-49c8-aeb1-7240c99b7278\u001b[0m\n"
     ]
    }
   ],
   "source": [
    "tuner = lgb.LightGBMTunerCV(params, \n",
    "                           dtrain,\n",
    "                           num_boost_round=300,\n",
    "                           folds=KFold(n_splits=3, shuffle=True, random_state=42),\n",
    "                           callbacks=[early_stopping(30)])"
   ]
  },
  {
   "cell_type": "code",
   "execution_count": 45,
   "id": "ce193fe3",
   "metadata": {},
   "outputs": [
    {
     "name": "stderr",
     "output_type": "stream",
     "text": [
      "feature_fraction, val_score: -inf:   0%|                  | 0/7 [00:00<?, ?it/s]"
     ]
    },
    {
     "name": "stdout",
     "output_type": "stream",
     "text": [
      "Training until validation scores don't improve for 30 rounds\n"
     ]
    },
    {
     "name": "stderr",
     "output_type": "stream",
     "text": [
      "feature_fraction, val_score: 0.895778:  14%|8     | 1/7 [00:00<00:02,  2.90it/s]\u001b[32m[I 2023-05-14 18:47:56,373]\u001b[0m Trial 0 finished with value: 0.8957783044198452 and parameters: {'feature_fraction': 0.8999999999999999}. Best is trial 0 with value: 0.8957783044198452.\u001b[0m\n",
      "feature_fraction, val_score: 0.895778:  14%|8     | 1/7 [00:00<00:02,  2.90it/s]"
     ]
    },
    {
     "name": "stdout",
     "output_type": "stream",
     "text": [
      "Early stopping, best iteration is:\n",
      "[98]\tcv_agg's auc: 0.895778 + 0.0151915\n"
     ]
    },
    {
     "name": "stderr",
     "output_type": "stream",
     "text": [
      "feature_fraction, val_score: 0.896784:  29%|#7    | 2/7 [00:00<00:01,  3.20it/s]\u001b[32m[I 2023-05-14 18:47:56,662]\u001b[0m Trial 1 finished with value: 0.8967835750644862 and parameters: {'feature_fraction': 1.0}. Best is trial 1 with value: 0.8967835750644862.\u001b[0m\n",
      "feature_fraction, val_score: 0.896784:  29%|#7    | 2/7 [00:00<00:01,  3.20it/s]"
     ]
    },
    {
     "name": "stdout",
     "output_type": "stream",
     "text": [
      "Early stopping, best iteration is:\n",
      "[104]\tcv_agg's auc: 0.896784 + 0.0187743\n"
     ]
    },
    {
     "name": "stderr",
     "output_type": "stream",
     "text": [
      "feature_fraction, val_score: 0.900062:  43%|##5   | 3/7 [00:00<00:01,  3.20it/s]\u001b[32m[I 2023-05-14 18:47:56,974]\u001b[0m Trial 2 finished with value: 0.9000615958480473 and parameters: {'feature_fraction': 0.7}. Best is trial 2 with value: 0.9000615958480473.\u001b[0m\n",
      "feature_fraction, val_score: 0.900062:  43%|##5   | 3/7 [00:00<00:01,  3.20it/s]"
     ]
    },
    {
     "name": "stdout",
     "output_type": "stream",
     "text": [
      "Early stopping, best iteration is:\n",
      "[127]\tcv_agg's auc: 0.900062 + 0.0185734\n"
     ]
    },
    {
     "name": "stderr",
     "output_type": "stream",
     "text": [
      "feature_fraction, val_score: 0.900062:  57%|###4  | 4/7 [00:01<00:01,  2.77it/s]\u001b[32m[I 2023-05-14 18:47:57,411]\u001b[0m Trial 3 finished with value: 0.8903380154965029 and parameters: {'feature_fraction': 0.4}. Best is trial 2 with value: 0.9000615958480473.\u001b[0m\n",
      "feature_fraction, val_score: 0.900062:  57%|###4  | 4/7 [00:01<00:01,  2.77it/s]"
     ]
    },
    {
     "name": "stdout",
     "output_type": "stream",
     "text": [
      "Early stopping, best iteration is:\n",
      "[127]\tcv_agg's auc: 0.900062 + 0.0185734\n"
     ]
    },
    {
     "name": "stderr",
     "output_type": "stream",
     "text": [
      "feature_fraction, val_score: 0.900062:  71%|####2 | 5/7 [00:01<00:00,  2.80it/s]\u001b[32m[I 2023-05-14 18:47:57,759]\u001b[0m Trial 4 finished with value: 0.8935096725700982 and parameters: {'feature_fraction': 0.6}. Best is trial 2 with value: 0.9000615958480473.\u001b[0m\n",
      "feature_fraction, val_score: 0.900062:  71%|####2 | 5/7 [00:01<00:00,  2.80it/s]"
     ]
    },
    {
     "name": "stdout",
     "output_type": "stream",
     "text": [
      "Early stopping, best iteration is:\n",
      "[127]\tcv_agg's auc: 0.900062 + 0.0185734\n"
     ]
    },
    {
     "name": "stderr",
     "output_type": "stream",
     "text": [
      "feature_fraction, val_score: 0.900062:  86%|#####1| 6/7 [00:02<00:00,  2.94it/s]\u001b[32m[I 2023-05-14 18:47:58,066]\u001b[0m Trial 5 finished with value: 0.8976521819343364 and parameters: {'feature_fraction': 0.5}. Best is trial 2 with value: 0.9000615958480473.\u001b[0m\n",
      "feature_fraction, val_score: 0.900062:  86%|#####1| 6/7 [00:02<00:00,  2.94it/s]"
     ]
    },
    {
     "name": "stdout",
     "output_type": "stream",
     "text": [
      "Early stopping, best iteration is:\n",
      "[127]\tcv_agg's auc: 0.900062 + 0.0185734\n"
     ]
    },
    {
     "name": "stderr",
     "output_type": "stream",
     "text": [
      "feature_fraction, val_score: 0.900062: 100%|######| 7/7 [00:02<00:00,  2.81it/s]\u001b[32m[I 2023-05-14 18:47:58,455]\u001b[0m Trial 6 finished with value: 0.8943863276430039 and parameters: {'feature_fraction': 0.8}. Best is trial 2 with value: 0.9000615958480473.\u001b[0m\n",
      "feature_fraction, val_score: 0.900062: 100%|######| 7/7 [00:02<00:00,  2.88it/s]\n"
     ]
    },
    {
     "name": "stdout",
     "output_type": "stream",
     "text": [
      "Early stopping, best iteration is:\n",
      "[127]\tcv_agg's auc: 0.900062 + 0.0185734\n"
     ]
    },
    {
     "name": "stderr",
     "output_type": "stream",
     "text": [
      "num_leaves, val_score: 0.900062:   5%|5          | 1/20 [00:00<00:08,  2.33it/s]\u001b[32m[I 2023-05-14 18:47:58,888]\u001b[0m Trial 7 finished with value: 0.896203501505877 and parameters: {'num_leaves': 49}. Best is trial 7 with value: 0.896203501505877.\u001b[0m\n",
      "num_leaves, val_score: 0.900062:  10%|#1         | 2/20 [00:00<00:04,  3.92it/s]\u001b[32m[I 2023-05-14 18:47:59,021]\u001b[0m Trial 8 finished with value: 0.8040946611771126 and parameters: {'num_leaves': 6}. Best is trial 7 with value: 0.896203501505877.\u001b[0m\n",
      "num_leaves, val_score: 0.900062:  10%|#1         | 2/20 [00:00<00:04,  3.92it/s]"
     ]
    },
    {
     "name": "stdout",
     "output_type": "stream",
     "text": [
      "Early stopping, best iteration is:\n",
      "[127]\tcv_agg's auc: 0.900062 + 0.0185734\n",
      "Early stopping, best iteration is:\n",
      "[127]\tcv_agg's auc: 0.900062 + 0.0185734\n"
     ]
    },
    {
     "name": "stderr",
     "output_type": "stream",
     "text": [
      "num_leaves, val_score: 0.900062:  15%|#6         | 3/20 [00:01<00:09,  1.89it/s]\u001b[32m[I 2023-05-14 18:47:59,878]\u001b[0m Trial 9 finished with value: 0.8946820322872457 and parameters: {'num_leaves': 169}. Best is trial 7 with value: 0.896203501505877.\u001b[0m\n",
      "num_leaves, val_score: 0.900062:  15%|#6         | 3/20 [00:01<00:09,  1.89it/s]"
     ]
    },
    {
     "name": "stdout",
     "output_type": "stream",
     "text": [
      "Early stopping, best iteration is:\n",
      "[127]\tcv_agg's auc: 0.900062 + 0.0185734\n"
     ]
    },
    {
     "name": "stderr",
     "output_type": "stream",
     "text": [
      "num_leaves, val_score: 0.900062:  20%|##2        | 4/20 [00:02<00:10,  1.50it/s]\u001b[32m[I 2023-05-14 18:48:00,750]\u001b[0m Trial 10 finished with value: 0.8946229282560506 and parameters: {'num_leaves': 188}. Best is trial 7 with value: 0.896203501505877.\u001b[0m\n",
      "num_leaves, val_score: 0.900062:  20%|##2        | 4/20 [00:02<00:10,  1.50it/s]"
     ]
    },
    {
     "name": "stdout",
     "output_type": "stream",
     "text": [
      "Early stopping, best iteration is:\n",
      "[127]\tcv_agg's auc: 0.900062 + 0.0185734\n"
     ]
    },
    {
     "name": "stderr",
     "output_type": "stream",
     "text": [
      "num_leaves, val_score: 0.900062:  25%|##7        | 5/20 [00:02<00:09,  1.56it/s]\u001b[32m[I 2023-05-14 18:48:01,346]\u001b[0m Trial 11 finished with value: 0.8916482960660325 and parameters: {'num_leaves': 77}. Best is trial 7 with value: 0.896203501505877.\u001b[0m\n",
      "num_leaves, val_score: 0.900062:  25%|##7        | 5/20 [00:02<00:09,  1.56it/s]"
     ]
    },
    {
     "name": "stdout",
     "output_type": "stream",
     "text": [
      "Early stopping, best iteration is:\n",
      "[127]\tcv_agg's auc: 0.900062 + 0.0185734\n"
     ]
    },
    {
     "name": "stderr",
     "output_type": "stream",
     "text": [
      "num_leaves, val_score: 0.900498:  30%|###3       | 6/20 [00:03<00:07,  1.91it/s]\u001b[32m[I 2023-05-14 18:48:01,643]\u001b[0m Trial 12 finished with value: 0.9004980298844348 and parameters: {'num_leaves': 117}. Best is trial 12 with value: 0.9004980298844348.\u001b[0m\n",
      "num_leaves, val_score: 0.900498:  30%|###3       | 6/20 [00:03<00:07,  1.91it/s]"
     ]
    },
    {
     "name": "stdout",
     "output_type": "stream",
     "text": [
      "Early stopping, best iteration is:\n",
      "[25]\tcv_agg's auc: 0.900498 + 0.0193802\n"
     ]
    },
    {
     "name": "stderr",
     "output_type": "stream",
     "text": [
      "num_leaves, val_score: 0.902769:  35%|###8       | 7/20 [00:03<00:06,  2.14it/s]\u001b[32m[I 2023-05-14 18:48:01,998]\u001b[0m Trial 13 finished with value: 0.902768787566469 and parameters: {'num_leaves': 116}. Best is trial 13 with value: 0.902768787566469.\u001b[0m\n",
      "num_leaves, val_score: 0.902769:  35%|###8       | 7/20 [00:03<00:06,  2.14it/s]"
     ]
    },
    {
     "name": "stdout",
     "output_type": "stream",
     "text": [
      "Early stopping, best iteration is:\n",
      "[38]\tcv_agg's auc: 0.902769 + 0.0234389\n"
     ]
    },
    {
     "name": "stderr",
     "output_type": "stream",
     "text": [
      "num_leaves, val_score: 0.902769:  40%|####4      | 8/20 [00:03<00:05,  2.20it/s]\u001b[32m[I 2023-05-14 18:48:02,421]\u001b[0m Trial 14 finished with value: 0.8963680966814382 and parameters: {'num_leaves': 157}. Best is trial 13 with value: 0.902768787566469.\u001b[0m\n",
      "num_leaves, val_score: 0.902769:  40%|####4      | 8/20 [00:03<00:05,  2.20it/s]"
     ]
    },
    {
     "name": "stdout",
     "output_type": "stream",
     "text": [
      "Early stopping, best iteration is:\n",
      "[38]\tcv_agg's auc: 0.902769 + 0.0234389\n"
     ]
    },
    {
     "name": "stderr",
     "output_type": "stream",
     "text": [
      "num_leaves, val_score: 0.902769:  45%|####9      | 9/20 [00:04<00:04,  2.25it/s]\u001b[32m[I 2023-05-14 18:48:02,846]\u001b[0m Trial 15 finished with value: 0.8973903617373907 and parameters: {'num_leaves': 211}. Best is trial 13 with value: 0.902768787566469.\u001b[0m\n",
      "num_leaves, val_score: 0.902769:  45%|####9      | 9/20 [00:04<00:04,  2.25it/s]"
     ]
    },
    {
     "name": "stdout",
     "output_type": "stream",
     "text": [
      "Early stopping, best iteration is:\n",
      "[38]\tcv_agg's auc: 0.902769 + 0.0234389\n"
     ]
    },
    {
     "name": "stderr",
     "output_type": "stream",
     "text": [
      "num_leaves, val_score: 0.902769:  50%|#####     | 10/20 [00:04<00:04,  2.26it/s]\u001b[32m[I 2023-05-14 18:48:03,281]\u001b[0m Trial 16 finished with value: 0.8973903617373907 and parameters: {'num_leaves': 224}. Best is trial 13 with value: 0.902768787566469.\u001b[0m\n",
      "num_leaves, val_score: 0.902769:  50%|#####     | 10/20 [00:04<00:04,  2.26it/s]"
     ]
    },
    {
     "name": "stdout",
     "output_type": "stream",
     "text": [
      "Early stopping, best iteration is:\n",
      "[38]\tcv_agg's auc: 0.902769 + 0.0234389\n"
     ]
    },
    {
     "name": "stderr",
     "output_type": "stream",
     "text": [
      "num_leaves, val_score: 0.902769:  55%|#####5    | 11/20 [00:05<00:03,  2.26it/s]\u001b[32m[I 2023-05-14 18:48:03,722]\u001b[0m Trial 17 finished with value: 0.8973903617373907 and parameters: {'num_leaves': 253}. Best is trial 13 with value: 0.902768787566469.\u001b[0m\n",
      "num_leaves, val_score: 0.902769:  55%|#####5    | 11/20 [00:05<00:03,  2.26it/s]"
     ]
    },
    {
     "name": "stdout",
     "output_type": "stream",
     "text": [
      "Early stopping, best iteration is:\n",
      "[38]\tcv_agg's auc: 0.902769 + 0.0234389\n"
     ]
    },
    {
     "name": "stderr",
     "output_type": "stream",
     "text": [
      "num_leaves, val_score: 0.902769:  60%|######    | 12/20 [00:05<00:03,  2.39it/s]\u001b[32m[I 2023-05-14 18:48:04,087]\u001b[0m Trial 18 finished with value: 0.893737353623769 and parameters: {'num_leaves': 111}. Best is trial 13 with value: 0.902768787566469.\u001b[0m\n",
      "num_leaves, val_score: 0.902769:  60%|######    | 12/20 [00:05<00:03,  2.39it/s]"
     ]
    },
    {
     "name": "stdout",
     "output_type": "stream",
     "text": [
      "Early stopping, best iteration is:\n",
      "[38]\tcv_agg's auc: 0.902769 + 0.0234389\n"
     ]
    },
    {
     "name": "stderr",
     "output_type": "stream",
     "text": [
      "num_leaves, val_score: 0.902769:  65%|######5   | 13/20 [00:06<00:02,  2.41it/s]\u001b[32m[I 2023-05-14 18:48:04,495]\u001b[0m Trial 19 finished with value: 0.8937222872027979 and parameters: {'num_leaves': 119}. Best is trial 13 with value: 0.902768787566469.\u001b[0m\n",
      "num_leaves, val_score: 0.902769:  65%|######5   | 13/20 [00:06<00:02,  2.41it/s]"
     ]
    },
    {
     "name": "stdout",
     "output_type": "stream",
     "text": [
      "Early stopping, best iteration is:\n",
      "[38]\tcv_agg's auc: 0.902769 + 0.0234389\n"
     ]
    },
    {
     "name": "stderr",
     "output_type": "stream",
     "text": [
      "num_leaves, val_score: 0.902769:  70%|#######   | 14/20 [00:06<00:02,  2.55it/s]\u001b[32m[I 2023-05-14 18:48:04,833]\u001b[0m Trial 20 finished with value: 0.888955774713685 and parameters: {'num_leaves': 78}. Best is trial 13 with value: 0.902768787566469.\u001b[0m\n",
      "num_leaves, val_score: 0.902769:  70%|#######   | 14/20 [00:06<00:02,  2.55it/s]"
     ]
    },
    {
     "name": "stdout",
     "output_type": "stream",
     "text": [
      "Early stopping, best iteration is:\n",
      "[38]\tcv_agg's auc: 0.902769 + 0.0234389\n"
     ]
    },
    {
     "name": "stderr",
     "output_type": "stream",
     "text": [
      "num_leaves, val_score: 0.902769:  75%|#######5  | 15/20 [00:06<00:02,  2.44it/s]\u001b[32m[I 2023-05-14 18:48:05,285]\u001b[0m Trial 21 finished with value: 0.8961664312539783 and parameters: {'num_leaves': 136}. Best is trial 13 with value: 0.902768787566469.\u001b[0m\n",
      "num_leaves, val_score: 0.902769:  75%|#######5  | 15/20 [00:06<00:02,  2.44it/s]"
     ]
    },
    {
     "name": "stdout",
     "output_type": "stream",
     "text": [
      "Early stopping, best iteration is:\n",
      "[38]\tcv_agg's auc: 0.902769 + 0.0234389\n"
     ]
    },
    {
     "name": "stderr",
     "output_type": "stream",
     "text": [
      "num_leaves, val_score: 0.902769:  80%|########  | 16/20 [00:08<00:02,  1.51it/s]\u001b[32m[I 2023-05-14 18:48:06,540]\u001b[0m Trial 22 finished with value: 0.8933057661103927 and parameters: {'num_leaves': 83}. Best is trial 13 with value: 0.902768787566469.\u001b[0m\n",
      "num_leaves, val_score: 0.902769:  80%|########  | 16/20 [00:08<00:02,  1.51it/s]"
     ]
    },
    {
     "name": "stdout",
     "output_type": "stream",
     "text": [
      "Early stopping, best iteration is:\n",
      "[38]\tcv_agg's auc: 0.902769 + 0.0234389\n"
     ]
    },
    {
     "name": "stderr",
     "output_type": "stream",
     "text": [
      "num_leaves, val_score: 0.902769:  85%|########5 | 17/20 [00:09<00:02,  1.32it/s]\u001b[32m[I 2023-05-14 18:48:07,513]\u001b[0m Trial 23 finished with value: 0.8664426673412944 and parameters: {'num_leaves': 32}. Best is trial 13 with value: 0.902768787566469.\u001b[0m\n",
      "num_leaves, val_score: 0.902769:  85%|########5 | 17/20 [00:09<00:02,  1.32it/s]"
     ]
    },
    {
     "name": "stdout",
     "output_type": "stream",
     "text": [
      "Early stopping, best iteration is:\n",
      "[38]\tcv_agg's auc: 0.902769 + 0.0234389\n"
     ]
    },
    {
     "name": "stderr",
     "output_type": "stream",
     "text": [
      "num_leaves, val_score: 0.902769:  90%|######### | 18/20 [00:09<00:01,  1.55it/s]\u001b[32m[I 2023-05-14 18:48:07,895]\u001b[0m Trial 24 finished with value: 0.8946658418710404 and parameters: {'num_leaves': 102}. Best is trial 13 with value: 0.902768787566469.\u001b[0m\n",
      "num_leaves, val_score: 0.902769:  90%|######### | 18/20 [00:09<00:01,  1.55it/s]"
     ]
    },
    {
     "name": "stdout",
     "output_type": "stream",
     "text": [
      "Early stopping, best iteration is:\n",
      "[38]\tcv_agg's auc: 0.902769 + 0.0234389\n"
     ]
    },
    {
     "name": "stderr",
     "output_type": "stream",
     "text": [
      "num_leaves, val_score: 0.902769:  95%|#########5| 19/20 [00:09<00:00,  1.74it/s]\u001b[32m[I 2023-05-14 18:48:08,302]\u001b[0m Trial 25 finished with value: 0.8980836217550779 and parameters: {'num_leaves': 141}. Best is trial 13 with value: 0.902768787566469.\u001b[0m\n",
      "num_leaves, val_score: 0.902769:  95%|#########5| 19/20 [00:09<00:00,  1.74it/s]"
     ]
    },
    {
     "name": "stdout",
     "output_type": "stream",
     "text": [
      "Early stopping, best iteration is:\n",
      "[38]\tcv_agg's auc: 0.902769 + 0.0234389\n"
     ]
    },
    {
     "name": "stderr",
     "output_type": "stream",
     "text": [
      "num_leaves, val_score: 0.902769: 100%|##########| 20/20 [00:10<00:00,  2.08it/s]\u001b[32m[I 2023-05-14 18:48:08,566]\u001b[0m Trial 26 finished with value: 0.8873342110384134 and parameters: {'num_leaves': 55}. Best is trial 13 with value: 0.902768787566469.\u001b[0m\n",
      "num_leaves, val_score: 0.902769: 100%|##########| 20/20 [00:10<00:00,  1.98it/s]\n"
     ]
    },
    {
     "name": "stdout",
     "output_type": "stream",
     "text": [
      "Early stopping, best iteration is:\n",
      "[38]\tcv_agg's auc: 0.902769 + 0.0234389\n"
     ]
    },
    {
     "name": "stderr",
     "output_type": "stream",
     "text": [
      "bagging, val_score: 0.902769:  10%|#4            | 1/10 [00:00<00:03,  2.76it/s]\u001b[32m[I 2023-05-14 18:48:08,937]\u001b[0m Trial 27 finished with value: 0.900697841945063 and parameters: {'bagging_fraction': 0.9460522710373711, 'bagging_freq': 1}. Best is trial 27 with value: 0.900697841945063.\u001b[0m\n",
      "bagging, val_score: 0.902769:  10%|#4            | 1/10 [00:00<00:03,  2.76it/s]"
     ]
    },
    {
     "name": "stdout",
     "output_type": "stream",
     "text": [
      "Early stopping, best iteration is:\n",
      "[38]\tcv_agg's auc: 0.902769 + 0.0234389\n"
     ]
    },
    {
     "name": "stderr",
     "output_type": "stream",
     "text": [
      "bagging, val_score: 0.902769:  20%|##8           | 2/10 [00:00<00:02,  2.77it/s]\u001b[32m[I 2023-05-14 18:48:09,298]\u001b[0m Trial 28 finished with value: 0.8897973580338343 and parameters: {'bagging_fraction': 0.8383865732485329, 'bagging_freq': 7}. Best is trial 27 with value: 0.900697841945063.\u001b[0m\n",
      "bagging, val_score: 0.902769:  20%|##8           | 2/10 [00:00<00:02,  2.77it/s]"
     ]
    },
    {
     "name": "stdout",
     "output_type": "stream",
     "text": [
      "Early stopping, best iteration is:\n",
      "[38]\tcv_agg's auc: 0.902769 + 0.0234389\n"
     ]
    },
    {
     "name": "stderr",
     "output_type": "stream",
     "text": [
      "bagging, val_score: 0.902769:  30%|####2         | 3/10 [00:01<00:02,  2.74it/s]\u001b[32m[I 2023-05-14 18:48:09,666]\u001b[0m Trial 29 finished with value: 0.8932208828337455 and parameters: {'bagging_fraction': 0.9005694488778552, 'bagging_freq': 7}. Best is trial 27 with value: 0.900697841945063.\u001b[0m\n",
      "bagging, val_score: 0.902769:  30%|####2         | 3/10 [00:01<00:02,  2.74it/s]"
     ]
    },
    {
     "name": "stdout",
     "output_type": "stream",
     "text": [
      "Early stopping, best iteration is:\n",
      "[38]\tcv_agg's auc: 0.902769 + 0.0234389\n"
     ]
    },
    {
     "name": "stderr",
     "output_type": "stream",
     "text": [
      "bagging, val_score: 0.902769:  40%|#####6        | 4/10 [00:01<00:01,  3.07it/s]\u001b[32m[I 2023-05-14 18:48:09,931]\u001b[0m Trial 30 finished with value: 0.8715764144340081 and parameters: {'bagging_fraction': 0.49667145477838154, 'bagging_freq': 6}. Best is trial 27 with value: 0.900697841945063.\u001b[0m\n",
      "bagging, val_score: 0.902769:  40%|#####6        | 4/10 [00:01<00:01,  3.07it/s]"
     ]
    },
    {
     "name": "stdout",
     "output_type": "stream",
     "text": [
      "Early stopping, best iteration is:\n",
      "[38]\tcv_agg's auc: 0.902769 + 0.0234389\n"
     ]
    },
    {
     "name": "stderr",
     "output_type": "stream",
     "text": [
      "bagging, val_score: 0.902769:  50%|#######       | 5/10 [00:01<00:01,  2.95it/s]\u001b[32m[I 2023-05-14 18:48:10,296]\u001b[0m Trial 31 finished with value: 0.886764353547771 and parameters: {'bagging_fraction': 0.8234820106718874, 'bagging_freq': 3}. Best is trial 27 with value: 0.900697841945063.\u001b[0m\n",
      "bagging, val_score: 0.902769:  50%|#######       | 5/10 [00:01<00:01,  2.95it/s]"
     ]
    },
    {
     "name": "stdout",
     "output_type": "stream",
     "text": [
      "Early stopping, best iteration is:\n",
      "[38]\tcv_agg's auc: 0.902769 + 0.0234389\n"
     ]
    },
    {
     "name": "stderr",
     "output_type": "stream",
     "text": [
      "bagging, val_score: 0.902769:  60%|########4     | 6/10 [00:02<00:01,  2.81it/s]\u001b[32m[I 2023-05-14 18:48:10,683]\u001b[0m Trial 32 finished with value: 0.8884564366953301 and parameters: {'bagging_fraction': 0.7371552601481695, 'bagging_freq': 6}. Best is trial 27 with value: 0.900697841945063.\u001b[0m\n",
      "bagging, val_score: 0.902769:  60%|########4     | 6/10 [00:02<00:01,  2.81it/s]"
     ]
    },
    {
     "name": "stdout",
     "output_type": "stream",
     "text": [
      "Early stopping, best iteration is:\n",
      "[38]\tcv_agg's auc: 0.902769 + 0.0234389\n"
     ]
    },
    {
     "name": "stderr",
     "output_type": "stream",
     "text": [
      "bagging, val_score: 0.902769:  70%|#########7    | 7/10 [00:02<00:00,  3.10it/s]\u001b[32m[I 2023-05-14 18:48:10,938]\u001b[0m Trial 33 finished with value: 0.8495503788910197 and parameters: {'bagging_fraction': 0.4040694620730388, 'bagging_freq': 6}. Best is trial 27 with value: 0.900697841945063.\u001b[0m\n",
      "bagging, val_score: 0.902769:  70%|#########7    | 7/10 [00:02<00:00,  3.10it/s]"
     ]
    },
    {
     "name": "stdout",
     "output_type": "stream",
     "text": [
      "Early stopping, best iteration is:\n",
      "[38]\tcv_agg's auc: 0.902769 + 0.0234389\n"
     ]
    },
    {
     "name": "stderr",
     "output_type": "stream",
     "text": [
      "bagging, val_score: 0.902769:  80%|###########2  | 8/10 [00:02<00:00,  3.17it/s]\u001b[32m[I 2023-05-14 18:48:11,238]\u001b[0m Trial 34 finished with value: 0.8722194987056312 and parameters: {'bagging_fraction': 0.5406936730621729, 'bagging_freq': 4}. Best is trial 27 with value: 0.900697841945063.\u001b[0m\n",
      "bagging, val_score: 0.902769:  80%|###########2  | 8/10 [00:02<00:00,  3.17it/s]"
     ]
    },
    {
     "name": "stdout",
     "output_type": "stream",
     "text": [
      "Early stopping, best iteration is:\n",
      "[38]\tcv_agg's auc: 0.902769 + 0.0234389\n"
     ]
    },
    {
     "name": "stderr",
     "output_type": "stream",
     "text": [
      "bagging, val_score: 0.902769:  90%|############6 | 9/10 [00:03<00:00,  2.99it/s]\u001b[32m[I 2023-05-14 18:48:11,616]\u001b[0m Trial 35 finished with value: 0.8965579225626499 and parameters: {'bagging_fraction': 0.8565513959116106, 'bagging_freq': 7}. Best is trial 27 with value: 0.900697841945063.\u001b[0m\n",
      "bagging, val_score: 0.902769:  90%|############6 | 9/10 [00:03<00:00,  2.99it/s]"
     ]
    },
    {
     "name": "stdout",
     "output_type": "stream",
     "text": [
      "Early stopping, best iteration is:\n",
      "[38]\tcv_agg's auc: 0.902769 + 0.0234389\n"
     ]
    },
    {
     "name": "stderr",
     "output_type": "stream",
     "text": [
      "bagging, val_score: 0.902769: 100%|#############| 10/10 [00:03<00:00,  2.90it/s]\u001b[32m[I 2023-05-14 18:48:11,982]\u001b[0m Trial 36 finished with value: 0.8808793805281536 and parameters: {'bagging_fraction': 0.7125717111768362, 'bagging_freq': 7}. Best is trial 27 with value: 0.900697841945063.\u001b[0m\n",
      "bagging, val_score: 0.902769: 100%|#############| 10/10 [00:03<00:00,  2.93it/s]\n"
     ]
    },
    {
     "name": "stdout",
     "output_type": "stream",
     "text": [
      "Early stopping, best iteration is:\n",
      "[38]\tcv_agg's auc: 0.902769 + 0.0234389\n"
     ]
    },
    {
     "name": "stderr",
     "output_type": "stream",
     "text": [
      "feature_fraction_stage2, val_score: 0.902769:  17%|1| 1/6 [00:00<00:01,  2.80it/\u001b[32m[I 2023-05-14 18:48:12,342]\u001b[0m Trial 37 finished with value: 0.902768787566469 and parameters: {'feature_fraction': 0.6839999999999999}. Best is trial 37 with value: 0.902768787566469.\u001b[0m\n",
      "feature_fraction_stage2, val_score: 0.902769:  17%|1| 1/6 [00:00<00:01,  2.80it/"
     ]
    },
    {
     "name": "stdout",
     "output_type": "stream",
     "text": [
      "Early stopping, best iteration is:\n",
      "[38]\tcv_agg's auc: 0.902769 + 0.0234389\n"
     ]
    },
    {
     "name": "stderr",
     "output_type": "stream",
     "text": [
      "feature_fraction_stage2, val_score: 0.902769:  33%|3| 2/6 [00:00<00:01,  2.84it/\u001b[32m[I 2023-05-14 18:48:12,690]\u001b[0m Trial 38 finished with value: 0.9002619671504822 and parameters: {'feature_fraction': 0.652}. Best is trial 37 with value: 0.902768787566469.\u001b[0m\n",
      "feature_fraction_stage2, val_score: 0.902769:  33%|3| 2/6 [00:00<00:01,  2.84it/"
     ]
    },
    {
     "name": "stdout",
     "output_type": "stream",
     "text": [
      "Early stopping, best iteration is:\n",
      "[38]\tcv_agg's auc: 0.902769 + 0.0234389\n"
     ]
    },
    {
     "name": "stderr",
     "output_type": "stream",
     "text": [
      "feature_fraction_stage2, val_score: 0.902769:  50%|5| 3/6 [00:01<00:01,  2.77it/\u001b[32m[I 2023-05-14 18:48:13,063]\u001b[0m Trial 39 finished with value: 0.902768787566469 and parameters: {'feature_fraction': 0.716}. Best is trial 37 with value: 0.902768787566469.\u001b[0m\n",
      "feature_fraction_stage2, val_score: 0.902769:  50%|5| 3/6 [00:01<00:01,  2.77it/"
     ]
    },
    {
     "name": "stdout",
     "output_type": "stream",
     "text": [
      "Early stopping, best iteration is:\n",
      "[38]\tcv_agg's auc: 0.902769 + 0.0234389\n"
     ]
    },
    {
     "name": "stderr",
     "output_type": "stream",
     "text": [
      "feature_fraction_stage2, val_score: 0.902769:  67%|6| 4/6 [00:01<00:00,  2.76it/\u001b[32m[I 2023-05-14 18:48:13,428]\u001b[0m Trial 40 finished with value: 0.902768787566469 and parameters: {'feature_fraction': 0.748}. Best is trial 37 with value: 0.902768787566469.\u001b[0m\n",
      "feature_fraction_stage2, val_score: 0.902769:  67%|6| 4/6 [00:01<00:00,  2.76it/"
     ]
    },
    {
     "name": "stdout",
     "output_type": "stream",
     "text": [
      "Early stopping, best iteration is:\n",
      "[38]\tcv_agg's auc: 0.902769 + 0.0234389\n"
     ]
    },
    {
     "name": "stderr",
     "output_type": "stream",
     "text": [
      "feature_fraction_stage2, val_score: 0.902769:  83%|8| 5/6 [00:01<00:00,  2.78it/\u001b[32m[I 2023-05-14 18:48:13,782]\u001b[0m Trial 41 finished with value: 0.9002619671504822 and parameters: {'feature_fraction': 0.62}. Best is trial 37 with value: 0.902768787566469.\u001b[0m\n",
      "feature_fraction_stage2, val_score: 0.902769:  83%|8| 5/6 [00:01<00:00,  2.78it/"
     ]
    },
    {
     "name": "stdout",
     "output_type": "stream",
     "text": [
      "Early stopping, best iteration is:\n",
      "[38]\tcv_agg's auc: 0.902769 + 0.0234389\n"
     ]
    },
    {
     "name": "stderr",
     "output_type": "stream",
     "text": [
      "feature_fraction_stage2, val_score: 0.902769: 100%|#| 6/6 [00:02<00:00,  2.70it/\u001b[32m[I 2023-05-14 18:48:14,174]\u001b[0m Trial 42 finished with value: 0.8945605921215426 and parameters: {'feature_fraction': 0.7799999999999999}. Best is trial 37 with value: 0.902768787566469.\u001b[0m\n",
      "feature_fraction_stage2, val_score: 0.902769: 100%|#| 6/6 [00:02<00:00,  2.74it/\n"
     ]
    },
    {
     "name": "stdout",
     "output_type": "stream",
     "text": [
      "Early stopping, best iteration is:\n",
      "[38]\tcv_agg's auc: 0.902769 + 0.0234389\n"
     ]
    },
    {
     "name": "stderr",
     "output_type": "stream",
     "text": [
      "regularization_factors, val_score: 0.902769:   5%| | 1/20 [00:00<00:07,  2.58it/\u001b[32m[I 2023-05-14 18:48:14,565]\u001b[0m Trial 43 finished with value: 0.894836674577717 and parameters: {'lambda_l1': 0.0004902041284496336, 'lambda_l2': 1.5907676243167914e-05}. Best is trial 43 with value: 0.894836674577717.\u001b[0m\n",
      "regularization_factors, val_score: 0.902769:   5%| | 1/20 [00:00<00:07,  2.58it/"
     ]
    },
    {
     "name": "stdout",
     "output_type": "stream",
     "text": [
      "Early stopping, best iteration is:\n",
      "[38]\tcv_agg's auc: 0.902769 + 0.0234389\n"
     ]
    },
    {
     "name": "stderr",
     "output_type": "stream",
     "text": [
      "regularization_factors, val_score: 0.902769:  10%|1| 2/20 [00:00<00:06,  2.63it/\u001b[32m[I 2023-05-14 18:48:14,940]\u001b[0m Trial 44 finished with value: 0.8996850022800696 and parameters: {'lambda_l1': 1.9302415424820726e-06, 'lambda_l2': 0.00024144557556705153}. Best is trial 44 with value: 0.8996850022800696.\u001b[0m\n",
      "regularization_factors, val_score: 0.902769:  10%|1| 2/20 [00:00<00:06,  2.63it/"
     ]
    },
    {
     "name": "stdout",
     "output_type": "stream",
     "text": [
      "Early stopping, best iteration is:\n",
      "[38]\tcv_agg's auc: 0.902769 + 0.0234389\n"
     ]
    },
    {
     "name": "stderr",
     "output_type": "stream",
     "text": [
      "regularization_factors, val_score: 0.902769:  15%|1| 3/20 [00:01<00:06,  2.61it/\u001b[32m[I 2023-05-14 18:48:15,326]\u001b[0m Trial 45 finished with value: 0.8944343931014259 and parameters: {'lambda_l1': 0.0023760725765599364, 'lambda_l2': 0.0006417101583453586}. Best is trial 44 with value: 0.8996850022800696.\u001b[0m\n",
      "regularization_factors, val_score: 0.902769:  15%|1| 3/20 [00:01<00:06,  2.61it/"
     ]
    },
    {
     "name": "stdout",
     "output_type": "stream",
     "text": [
      "Early stopping, best iteration is:\n",
      "[38]\tcv_agg's auc: 0.902769 + 0.0234389\n"
     ]
    },
    {
     "name": "stderr",
     "output_type": "stream",
     "text": [
      "regularization_factors, val_score: 0.902769:  20%|2| 4/20 [00:01<00:06,  2.48it/\u001b[32m[I 2023-05-14 18:48:15,759]\u001b[0m Trial 46 finished with value: 0.8964315955334112 and parameters: {'lambda_l1': 4.783908977696735e-06, 'lambda_l2': 1.6239101406693756e-07}. Best is trial 44 with value: 0.8996850022800696.\u001b[0m\n",
      "regularization_factors, val_score: 0.902769:  20%|2| 4/20 [00:01<00:06,  2.48it/"
     ]
    },
    {
     "name": "stdout",
     "output_type": "stream",
     "text": [
      "Early stopping, best iteration is:\n",
      "[38]\tcv_agg's auc: 0.902769 + 0.0234389\n"
     ]
    },
    {
     "name": "stderr",
     "output_type": "stream",
     "text": [
      "regularization_factors, val_score: 0.902769:  25%|2| 5/20 [00:01<00:05,  2.54it/\u001b[32m[I 2023-05-14 18:48:16,135]\u001b[0m Trial 47 finished with value: 0.8958278505101017 and parameters: {'lambda_l1': 1.197784811758536e-05, 'lambda_l2': 0.4843241079961729}. Best is trial 44 with value: 0.8996850022800696.\u001b[0m\n",
      "regularization_factors, val_score: 0.902769:  25%|2| 5/20 [00:01<00:05,  2.54it/"
     ]
    },
    {
     "name": "stdout",
     "output_type": "stream",
     "text": [
      "Early stopping, best iteration is:\n",
      "[38]\tcv_agg's auc: 0.902769 + 0.0234389\n"
     ]
    },
    {
     "name": "stderr",
     "output_type": "stream",
     "text": [
      "regularization_factors, val_score: 0.902769:  30%|3| 6/20 [00:02<00:05,  2.70it/\u001b[32m[I 2023-05-14 18:48:16,460]\u001b[0m Trial 48 finished with value: 0.8848937777561053 and parameters: {'lambda_l1': 6.358606046967966e-05, 'lambda_l2': 3.6802293629362834}. Best is trial 44 with value: 0.8996850022800696.\u001b[0m\n",
      "regularization_factors, val_score: 0.902769:  30%|3| 6/20 [00:02<00:05,  2.70it/"
     ]
    },
    {
     "name": "stdout",
     "output_type": "stream",
     "text": [
      "Early stopping, best iteration is:\n",
      "[38]\tcv_agg's auc: 0.902769 + 0.0234389\n"
     ]
    },
    {
     "name": "stderr",
     "output_type": "stream",
     "text": [
      "regularization_factors, val_score: 0.902769:  35%|3| 7/20 [00:02<00:04,  2.67it/\u001b[32m[I 2023-05-14 18:48:16,844]\u001b[0m Trial 49 finished with value: 0.895677224513336 and parameters: {'lambda_l1': 6.0972384121246683e-05, 'lambda_l2': 1.210565571348735e-07}. Best is trial 44 with value: 0.8996850022800696.\u001b[0m\n",
      "regularization_factors, val_score: 0.902769:  35%|3| 7/20 [00:02<00:04,  2.67it/"
     ]
    },
    {
     "name": "stdout",
     "output_type": "stream",
     "text": [
      "Early stopping, best iteration is:\n",
      "[38]\tcv_agg's auc: 0.902769 + 0.0234389\n"
     ]
    },
    {
     "name": "stderr",
     "output_type": "stream",
     "text": [
      "regularization_factors, val_score: 0.902769:  40%|4| 8/20 [00:03<00:04,  2.60it/\u001b[32m[I 2023-05-14 18:48:17,250]\u001b[0m Trial 50 finished with value: 0.8992393341496191 and parameters: {'lambda_l1': 0.0001305800866159047, 'lambda_l2': 8.857038068092134e-07}. Best is trial 44 with value: 0.8996850022800696.\u001b[0m\n",
      "regularization_factors, val_score: 0.902769:  40%|4| 8/20 [00:03<00:04,  2.60it/"
     ]
    },
    {
     "name": "stdout",
     "output_type": "stream",
     "text": [
      "Early stopping, best iteration is:\n",
      "[38]\tcv_agg's auc: 0.902769 + 0.0234389\n"
     ]
    },
    {
     "name": "stderr",
     "output_type": "stream",
     "text": [
      "regularization_factors, val_score: 0.902769:  45%|4| 9/20 [00:03<00:04,  2.58it/\u001b[32m[I 2023-05-14 18:48:17,642]\u001b[0m Trial 51 finished with value: 0.898319311246767 and parameters: {'lambda_l1': 2.2299619500644706e-05, 'lambda_l2': 7.376927655479343e-06}. Best is trial 44 with value: 0.8996850022800696.\u001b[0m\n",
      "regularization_factors, val_score: 0.902769:  45%|4| 9/20 [00:03<00:04,  2.58it/"
     ]
    },
    {
     "name": "stdout",
     "output_type": "stream",
     "text": [
      "Early stopping, best iteration is:\n",
      "[38]\tcv_agg's auc: 0.902769 + 0.0234389\n"
     ]
    },
    {
     "name": "stderr",
     "output_type": "stream",
     "text": [
      "regularization_factors, val_score: 0.902769:  50%|5| 10/20 [00:03<00:03,  2.58it\u001b[32m[I 2023-05-14 18:48:18,034]\u001b[0m Trial 52 finished with value: 0.8966135506238335 and parameters: {'lambda_l1': 2.1329676054080673e-05, 'lambda_l2': 3.656646377788105e-08}. Best is trial 44 with value: 0.8996850022800696.\u001b[0m\n",
      "regularization_factors, val_score: 0.902769:  50%|5| 10/20 [00:03<00:03,  2.58it"
     ]
    },
    {
     "name": "stdout",
     "output_type": "stream",
     "text": [
      "Early stopping, best iteration is:\n",
      "[38]\tcv_agg's auc: 0.902769 + 0.0234389\n"
     ]
    },
    {
     "name": "stderr",
     "output_type": "stream",
     "text": [
      "regularization_factors, val_score: 0.902769:  55%|5| 11/20 [00:04<00:03,  2.59it\u001b[32m[I 2023-05-14 18:48:18,415]\u001b[0m Trial 53 finished with value: 0.8945132200446352 and parameters: {'lambda_l1': 2.524320854131455e-08, 'lambda_l2': 0.0023389030862176014}. Best is trial 44 with value: 0.8996850022800696.\u001b[0m\n",
      "regularization_factors, val_score: 0.902769:  55%|5| 11/20 [00:04<00:03,  2.59it"
     ]
    },
    {
     "name": "stdout",
     "output_type": "stream",
     "text": [
      "Early stopping, best iteration is:\n",
      "[38]\tcv_agg's auc: 0.902769 + 0.0234389\n"
     ]
    },
    {
     "name": "stderr",
     "output_type": "stream",
     "text": [
      "regularization_factors, val_score: 0.902769:  60%|6| 12/20 [00:04<00:02,  2.70it\u001b[32m[I 2023-05-14 18:48:18,750]\u001b[0m Trial 54 finished with value: 0.8920228306531678 and parameters: {'lambda_l1': 0.9155914470801759, 'lambda_l2': 6.556294110080479e-06}. Best is trial 44 with value: 0.8996850022800696.\u001b[0m\n",
      "regularization_factors, val_score: 0.902769:  60%|6| 12/20 [00:04<00:02,  2.70it"
     ]
    },
    {
     "name": "stdout",
     "output_type": "stream",
     "text": [
      "Early stopping, best iteration is:\n",
      "[38]\tcv_agg's auc: 0.902769 + 0.0234389\n"
     ]
    },
    {
     "name": "stderr",
     "output_type": "stream",
     "text": [
      "regularization_factors, val_score: 0.902769:  65%|6| 13/20 [00:04<00:02,  2.59it\u001b[32m[I 2023-05-14 18:48:19,174]\u001b[0m Trial 55 finished with value: 0.8970296485304998 and parameters: {'lambda_l1': 4.116638996660402e-07, 'lambda_l2': 0.01033426778989865}. Best is trial 44 with value: 0.8996850022800696.\u001b[0m\n",
      "regularization_factors, val_score: 0.902769:  65%|6| 13/20 [00:04<00:02,  2.59it"
     ]
    },
    {
     "name": "stdout",
     "output_type": "stream",
     "text": [
      "Early stopping, best iteration is:\n",
      "[38]\tcv_agg's auc: 0.902769 + 0.0234389\n"
     ]
    },
    {
     "name": "stderr",
     "output_type": "stream",
     "text": [
      "regularization_factors, val_score: 0.902769:  70%|7| 14/20 [00:05<00:02,  2.60it\u001b[32m[I 2023-05-14 18:48:19,553]\u001b[0m Trial 56 finished with value: 0.8955125503836504 and parameters: {'lambda_l1': 0.008502089262462209, 'lambda_l2': 6.239031472180708e-05}. Best is trial 44 with value: 0.8996850022800696.\u001b[0m\n",
      "regularization_factors, val_score: 0.902769:  70%|7| 14/20 [00:05<00:02,  2.60it"
     ]
    },
    {
     "name": "stdout",
     "output_type": "stream",
     "text": [
      "Early stopping, best iteration is:\n",
      "[38]\tcv_agg's auc: 0.902769 + 0.0234389\n"
     ]
    },
    {
     "name": "stderr",
     "output_type": "stream",
     "text": [
      "regularization_factors, val_score: 0.902769:  75%|7| 15/20 [00:05<00:01,  2.54it\u001b[32m[I 2023-05-14 18:48:19,968]\u001b[0m Trial 57 finished with value: 0.8996579136324336 and parameters: {'lambda_l1': 2.606223699352559e-07, 'lambda_l2': 1.3463083172139395e-06}. Best is trial 44 with value: 0.8996850022800696.\u001b[0m\n",
      "regularization_factors, val_score: 0.902769:  75%|7| 15/20 [00:05<00:01,  2.54it"
     ]
    },
    {
     "name": "stdout",
     "output_type": "stream",
     "text": [
      "Early stopping, best iteration is:\n",
      "[38]\tcv_agg's auc: 0.902769 + 0.0234389\n"
     ]
    },
    {
     "name": "stderr",
     "output_type": "stream",
     "text": [
      "regularization_factors, val_score: 0.902769:  80%|8| 16/20 [00:06<00:01,  2.54it\u001b[32m[I 2023-05-14 18:48:20,363]\u001b[0m Trial 58 finished with value: 0.8977133463990491 and parameters: {'lambda_l1': 1.458083456073547e-08, 'lambda_l2': 1.1567118930314216e-08}. Best is trial 44 with value: 0.8996850022800696.\u001b[0m\n",
      "regularization_factors, val_score: 0.902769:  80%|8| 16/20 [00:06<00:01,  2.54it"
     ]
    },
    {
     "name": "stdout",
     "output_type": "stream",
     "text": [
      "Early stopping, best iteration is:\n",
      "[38]\tcv_agg's auc: 0.902769 + 0.0234389\n"
     ]
    },
    {
     "name": "stderr",
     "output_type": "stream",
     "text": [
      "regularization_factors, val_score: 0.902769:  85%|8| 17/20 [00:06<00:01,  2.50it\u001b[32m[I 2023-05-14 18:48:20,775]\u001b[0m Trial 59 finished with value: 0.8951455206595332 and parameters: {'lambda_l1': 5.609725738492003e-07, 'lambda_l2': 0.0001322425151348246}. Best is trial 44 with value: 0.8996850022800696.\u001b[0m\n",
      "regularization_factors, val_score: 0.902769:  85%|8| 17/20 [00:06<00:01,  2.50it"
     ]
    },
    {
     "name": "stdout",
     "output_type": "stream",
     "text": [
      "Early stopping, best iteration is:\n",
      "[38]\tcv_agg's auc: 0.902769 + 0.0234389\n"
     ]
    },
    {
     "name": "stderr",
     "output_type": "stream",
     "text": [
      "regularization_factors, val_score: 0.902769:  90%|9| 18/20 [00:06<00:00,  2.52it\u001b[32m[I 2023-05-14 18:48:21,166]\u001b[0m Trial 60 finished with value: 0.8996610512474724 and parameters: {'lambda_l1': 6.407463819728229e-07, 'lambda_l2': 1.195140436008525e-06}. Best is trial 44 with value: 0.8996850022800696.\u001b[0m\n",
      "regularization_factors, val_score: 0.902769:  90%|9| 18/20 [00:06<00:00,  2.52it"
     ]
    },
    {
     "name": "stdout",
     "output_type": "stream",
     "text": [
      "Early stopping, best iteration is:\n",
      "[38]\tcv_agg's auc: 0.902769 + 0.0234389\n"
     ]
    },
    {
     "name": "stderr",
     "output_type": "stream",
     "text": [
      "regularization_factors, val_score: 0.902769:  95%|9| 19/20 [00:07<00:00,  2.53it\u001b[32m[I 2023-05-14 18:48:21,556]\u001b[0m Trial 61 finished with value: 0.8965359646450582 and parameters: {'lambda_l1': 2.4634770207919384e-06, 'lambda_l2': 0.011842197974194444}. Best is trial 44 with value: 0.8996850022800696.\u001b[0m\n",
      "regularization_factors, val_score: 0.902769:  95%|9| 19/20 [00:07<00:00,  2.53it"
     ]
    },
    {
     "name": "stdout",
     "output_type": "stream",
     "text": [
      "Early stopping, best iteration is:\n",
      "[38]\tcv_agg's auc: 0.902769 + 0.0234389\n"
     ]
    },
    {
     "name": "stderr",
     "output_type": "stream",
     "text": [
      "regularization_factors, val_score: 0.902769: 100%|#| 20/20 [00:07<00:00,  2.53it\u001b[32m[I 2023-05-14 18:48:21,951]\u001b[0m Trial 62 finished with value: 0.8947805538872711 and parameters: {'lambda_l1': 8.186499605281728e-08, 'lambda_l2': 4.6770333182923825e-05}. Best is trial 44 with value: 0.8996850022800696.\u001b[0m\n",
      "regularization_factors, val_score: 0.902769: 100%|#| 20/20 [00:07<00:00,  2.57it\n"
     ]
    },
    {
     "name": "stdout",
     "output_type": "stream",
     "text": [
      "Early stopping, best iteration is:\n",
      "[38]\tcv_agg's auc: 0.902769 + 0.0234389\n"
     ]
    },
    {
     "name": "stderr",
     "output_type": "stream",
     "text": [
      "min_data_in_leaf, val_score: 0.902769:  20%|#2    | 1/5 [00:00<00:00,  4.11it/s]\u001b[32m[I 2023-05-14 18:48:22,197]\u001b[0m Trial 63 finished with value: 0.8823585468299039 and parameters: {'min_child_samples': 50}. Best is trial 63 with value: 0.8823585468299039.\u001b[0m\n",
      "min_data_in_leaf, val_score: 0.902769:  20%|#2    | 1/5 [00:00<00:00,  4.11it/s]"
     ]
    },
    {
     "name": "stdout",
     "output_type": "stream",
     "text": [
      "Early stopping, best iteration is:\n",
      "[38]\tcv_agg's auc: 0.902769 + 0.0234389\n"
     ]
    },
    {
     "name": "stderr",
     "output_type": "stream",
     "text": [
      "min_data_in_leaf, val_score: 0.902769:  40%|##4   | 2/5 [00:00<00:01,  2.71it/s]\u001b[32m[I 2023-05-14 18:48:22,655]\u001b[0m Trial 64 finished with value: 0.8887673975742966 and parameters: {'min_child_samples': 10}. Best is trial 64 with value: 0.8887673975742966.\u001b[0m\n",
      "min_data_in_leaf, val_score: 0.902769:  40%|##4   | 2/5 [00:00<00:01,  2.71it/s]"
     ]
    },
    {
     "name": "stdout",
     "output_type": "stream",
     "text": [
      "Early stopping, best iteration is:\n",
      "[38]\tcv_agg's auc: 0.902769 + 0.0234389\n"
     ]
    },
    {
     "name": "stderr",
     "output_type": "stream",
     "text": [
      "min_data_in_leaf, val_score: 0.902769:  60%|###6  | 3/5 [00:01<00:00,  2.51it/s]\u001b[32m[I 2023-05-14 18:48:23,088]\u001b[0m Trial 65 finished with value: 0.8950456902904552 and parameters: {'min_child_samples': 5}. Best is trial 65 with value: 0.8950456902904552.\u001b[0m\n",
      "min_data_in_leaf, val_score: 0.902769:  60%|###6  | 3/5 [00:01<00:00,  2.51it/s]"
     ]
    },
    {
     "name": "stdout",
     "output_type": "stream",
     "text": [
      "Early stopping, best iteration is:\n",
      "[38]\tcv_agg's auc: 0.902769 + 0.0234389\n"
     ]
    },
    {
     "name": "stderr",
     "output_type": "stream",
     "text": [
      "min_data_in_leaf, val_score: 0.902769:  80%|####8 | 4/5 [00:01<00:00,  2.56it/s]\u001b[32m[I 2023-05-14 18:48:23,466]\u001b[0m Trial 66 finished with value: 0.8982026721831797 and parameters: {'min_child_samples': 25}. Best is trial 66 with value: 0.8982026721831797.\u001b[0m\n",
      "min_data_in_leaf, val_score: 0.902769: 100%|######| 5/5 [00:01<00:00,  3.29it/s]\u001b[32m[I 2023-05-14 18:48:23,617]\u001b[0m Trial 67 finished with value: 0.8391845924328022 and parameters: {'min_child_samples': 100}. Best is trial 66 with value: 0.8982026721831797.\u001b[0m\n",
      "min_data_in_leaf, val_score: 0.902769: 100%|######| 5/5 [00:01<00:00,  3.00it/s]"
     ]
    },
    {
     "name": "stdout",
     "output_type": "stream",
     "text": [
      "Early stopping, best iteration is:\n",
      "[38]\tcv_agg's auc: 0.902769 + 0.0234389\n",
      "Early stopping, best iteration is:\n",
      "[38]\tcv_agg's auc: 0.902769 + 0.0234389\n"
     ]
    },
    {
     "name": "stderr",
     "output_type": "stream",
     "text": [
      "\n"
     ]
    }
   ],
   "source": [
    "tuner.run()"
   ]
  },
  {
   "cell_type": "code",
   "execution_count": 46,
   "id": "68e2f8b7",
   "metadata": {},
   "outputs": [
    {
     "name": "stdout",
     "output_type": "stream",
     "text": [
      "0.902768787566469\n",
      "{'objective': 'binary', 'metric': 'auc', 'verbosity': -1, 'boosting_type': 'gbdt', 'feature_pre_filter': False, 'lambda_l1': 0.0, 'lambda_l2': 0.0, 'num_leaves': 116, 'feature_fraction': 0.7, 'bagging_fraction': 1.0, 'bagging_freq': 0, 'min_child_samples': 20}\n",
      "  objective: binary\n",
      "  metric: auc\n",
      "  verbosity: -1\n",
      "  boosting_type: gbdt\n",
      "  feature_pre_filter: False\n",
      "  lambda_l1: 0.0\n",
      "  lambda_l2: 0.0\n",
      "  num_leaves: 116\n",
      "  feature_fraction: 0.7\n",
      "  bagging_fraction: 1.0\n",
      "  bagging_freq: 0\n",
      "  min_child_samples: 20\n"
     ]
    }
   ],
   "source": [
    "print(tuner.best_score)\n",
    "print(tuner.best_params)\n",
    "\n",
    "for key, value in tuner.best_params.items():\n",
    "    print('  {}: {}'.format(key, value))"
   ]
  },
  {
   "cell_type": "code",
   "execution_count": null,
   "id": "bf67b1f0",
   "metadata": {},
   "outputs": [],
   "source": []
  }
 ],
 "metadata": {
  "kernelspec": {
   "display_name": "Python 3 (ipykernel)",
   "language": "python",
   "name": "python3"
  },
  "language_info": {
   "codemirror_mode": {
    "name": "ipython",
    "version": 3
   },
   "file_extension": ".py",
   "mimetype": "text/x-python",
   "name": "python",
   "nbconvert_exporter": "python",
   "pygments_lexer": "ipython3",
   "version": "3.9.12"
  }
 },
 "nbformat": 4,
 "nbformat_minor": 5
}
